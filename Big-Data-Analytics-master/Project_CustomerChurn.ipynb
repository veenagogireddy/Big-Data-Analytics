{
 "cells": [
  {
   "cell_type": "markdown",
   "metadata": {
    "collapsed": true
   },
   "source": [
    "#                                       Predicting Telecom cutomer churn\n",
    "\n",
    "## Churn is the largest problem faced by most of businesses. Customer churn means loss of clients or customers, this is also known as customer attrition. Cutomer churn analysis is a key business metric in telecom service providers, Internet service providers, Insurance firms etc. As the cost of retaining an existing customer is far less than acquiring a new customer( According to Harvard Business Review, it costs between 5 times and 25 times as much to find a new customer than to retain an existing one). \n",
    "\n",
    "## Preventing customer churn is an important function of business. By building predictive models using machine learning algorithms, we can predict whether a customer is willing to leave the carrier service. By identifying the customers who are in a risk of churning, network provider can provide better offers and services to retain their client."
   ]
  },
  {
   "cell_type": "code",
   "execution_count": 1,
   "metadata": {},
   "outputs": [],
   "source": [
    "from pyspark import SparkConf, SparkContext\n",
    "from pyspark.sql import Row\n",
    "from pyspark.sql import functions\n",
    "\n",
    "#conf = SparkConf().setMaster(\"local\").setAppName(\"SentenceEmotion\")\n",
    "#sc = SparkContext(conf = conf)\n",
    "\n",
    "lines = sc.textFile(\"Telecomchurn.csv\")"
   ]
  },
  {
   "cell_type": "markdown",
   "metadata": {},
   "source": [
    "## Data\n",
    "\n",
    "### We have used dataset from Kaggle. This data consists of various customers covering almost all the states in the united states. Each data entry involves the information about the customer which has features such as: \n",
    "\n",
    "### categorical variables 1) State, 2)International Plan 3) Voice mail plan 4) churn(Dependent variable)\n",
    "### continuous variables 1) number vmail messages\t2)total day minutes\t3)total day calls\t4)total day charge\t5)total eve minutes\t5)total eve calls\t6)total eve charge\t7)total night minutes\t8)total night calls\t9) total night charge\t10)total intl minutes\t11)total intl calls\t12)total intl charge 13) customer service calls\n",
    "\n",
    "\n",
    "### For the purpose of the project, the dependent variable is whether the customer will 'Churn' or not."
   ]
  },
  {
   "cell_type": "code",
   "execution_count": 2,
   "metadata": {
    "scrolled": false
   },
   "outputs": [
    {
     "data": {
      "text/plain": [
       "[u'state,account length,area code,phone number,international plan,voice mail plan,number vmail messages,total day minutes,total day calls,total day charge,total eve minutes,total eve calls,total eve charge,total night minutes,total night calls,total night charge,total intl minutes,total intl calls,total intl charge,customer service calls,churn',\n",
       " u'KS,128,415,382-4657,no,yes,25,265.1,110,45.07,197.4,99,16.78,244.7,91,11.01,10,3,2.7,1,FALSE',\n",
       " u'OH,107,415,371-7191,no,yes,26,161.6,123,27.47,195.5,103,16.62,254.4,103,11.45,13.7,3,3.7,1,FALSE',\n",
       " u'NJ,137,415,358-1921,no,no,0,243.4,114,41.38,121.2,110,10.3,162.6,104,7.32,12.2,5,3.29,0,FALSE',\n",
       " u'OH,84,408,375-9999,yes,no,0,299.4,71,50.9,61.9,88,5.26,196.9,89,8.86,6.6,7,1.78,2,FALSE']"
      ]
     },
     "execution_count": 2,
     "metadata": {},
     "output_type": "execute_result"
    }
   ],
   "source": [
    "#checking top 5 lines\n",
    "lines.take(5)"
   ]
  },
  {
   "cell_type": "code",
   "execution_count": 5,
   "metadata": {
    "scrolled": true
   },
   "outputs": [
    {
     "data": {
      "text/html": [
       "<style scoped>\n",
       "  .ansiout {\n",
       "    display: block;\n",
       "    unicode-bidi: embed;\n",
       "    white-space: pre-wrap;\n",
       "    word-wrap: break-word;\n",
       "    word-break: break-all;\n",
       "    font-family: \"Source Code Pro\", \"Menlo\", monospace;;\n",
       "    font-size: 13px;\n",
       "    color: #555;\n",
       "    margin-left: 4px;\n",
       "    line-height: 19px;\n",
       "  }\n",
       "</style>\n",
       "<div class=\"ansiout\"><span class=\"ansired\">Out[</span><span class=\"ansired\">5</span><span class=\"ansired\">]: </span>\n",
       "[&apos;KS,128,415,382-4657,no,yes,25,265.1,110,45.07,197.4,99,16.78,244.7,91,11.01,10,3,2.7,1,FALSE&apos;,\n",
       " &apos;OH,107,415,371-7191,no,yes,26,161.6,123,27.47,195.5,103,16.62,254.4,103,11.45,13.7,3,3.7,1,FALSE&apos;,\n",
       " &apos;NJ,137,415,358-1921,no,no,0,243.4,114,41.38,121.2,110,10.3,162.6,104,7.32,12.2,5,3.29,0,FALSE&apos;,\n",
       " &apos;OH,84,408,375-9999,yes,no,0,299.4,71,50.9,61.9,88,5.26,196.9,89,8.86,6.6,7,1.78,2,FALSE&apos;,\n",
       " &apos;OK,75,415,330-6626,yes,no,0,166.7,113,28.34,148.3,122,12.61,186.9,121,8.41,10.1,3,2.73,3,FALSE&apos;]\n",
       "</div>"
      ]
     },
     "metadata": {},
     "output_type": "display_data"
    }
   ],
   "source": [
    "header = lines.first()\n",
    "sent = lines.filter(lambda x: x!=header)\n",
    "sent.take(5)"
   ]
  },
  {
   "cell_type": "code",
   "execution_count": 6,
   "metadata": {},
   "outputs": [
    {
     "data": {
      "text/html": [
       "<style scoped>\n",
       "  .ansiout {\n",
       "    display: block;\n",
       "    unicode-bidi: embed;\n",
       "    white-space: pre-wrap;\n",
       "    word-wrap: break-word;\n",
       "    word-break: break-all;\n",
       "    font-family: \"Source Code Pro\", \"Menlo\", monospace;;\n",
       "    font-size: 13px;\n",
       "    color: #555;\n",
       "    margin-left: 4px;\n",
       "    line-height: 19px;\n",
       "  }\n",
       "</style>\n",
       "<div class=\"ansiout\"><span class=\"ansired\">Out[</span><span class=\"ansired\">12</span><span class=\"ansired\">]: </span>\n",
       "[[&apos;KS&apos;,\n",
       "  &apos;128&apos;,\n",
       "  &apos;415&apos;,\n",
       "  &apos;382-4657&apos;,\n",
       "  &apos;no&apos;,\n",
       "  &apos;yes&apos;,\n",
       "  &apos;25&apos;,\n",
       "  &apos;265.1&apos;,\n",
       "  &apos;110&apos;,\n",
       "  &apos;45.07&apos;,\n",
       "  &apos;197.4&apos;,\n",
       "  &apos;99&apos;,\n",
       "  &apos;16.78&apos;,\n",
       "  &apos;244.7&apos;,\n",
       "  &apos;91&apos;,\n",
       "  &apos;11.01&apos;,\n",
       "  &apos;10&apos;,\n",
       "  &apos;3&apos;,\n",
       "  &apos;2.7&apos;,\n",
       "  &apos;1&apos;,\n",
       "  &apos;FALSE&apos;],\n",
       " [&apos;OH&apos;,\n",
       "  &apos;107&apos;,\n",
       "  &apos;415&apos;,\n",
       "  &apos;371-7191&apos;,\n",
       "  &apos;no&apos;,\n",
       "  &apos;yes&apos;,\n",
       "  &apos;26&apos;,\n",
       "  &apos;161.6&apos;,\n",
       "  &apos;123&apos;,\n",
       "  &apos;27.47&apos;,\n",
       "  &apos;195.5&apos;,\n",
       "  &apos;103&apos;,\n",
       "  &apos;16.62&apos;,\n",
       "  &apos;254.4&apos;,\n",
       "  &apos;103&apos;,\n",
       "  &apos;11.45&apos;,\n",
       "  &apos;13.7&apos;,\n",
       "  &apos;3&apos;,\n",
       "  &apos;3.7&apos;,\n",
       "  &apos;1&apos;,\n",
       "  &apos;FALSE&apos;],\n",
       " [&apos;NJ&apos;,\n",
       "  &apos;137&apos;,\n",
       "  &apos;415&apos;,\n",
       "  &apos;358-1921&apos;,\n",
       "  &apos;no&apos;,\n",
       "  &apos;no&apos;,\n",
       "  &apos;0&apos;,\n",
       "  &apos;243.4&apos;,\n",
       "  &apos;114&apos;,\n",
       "  &apos;41.38&apos;,\n",
       "  &apos;121.2&apos;,\n",
       "  &apos;110&apos;,\n",
       "  &apos;10.3&apos;,\n",
       "  &apos;162.6&apos;,\n",
       "  &apos;104&apos;,\n",
       "  &apos;7.32&apos;,\n",
       "  &apos;12.2&apos;,\n",
       "  &apos;5&apos;,\n",
       "  &apos;3.29&apos;,\n",
       "  &apos;0&apos;,\n",
       "  &apos;FALSE&apos;],\n",
       " [&apos;OH&apos;,\n",
       "  &apos;84&apos;,\n",
       "  &apos;408&apos;,\n",
       "  &apos;375-9999&apos;,\n",
       "  &apos;yes&apos;,\n",
       "  &apos;no&apos;,\n",
       "  &apos;0&apos;,\n",
       "  &apos;299.4&apos;,\n",
       "  &apos;71&apos;,\n",
       "  &apos;50.9&apos;,\n",
       "  &apos;61.9&apos;,\n",
       "  &apos;88&apos;,\n",
       "  &apos;5.26&apos;,\n",
       "  &apos;196.9&apos;,\n",
       "  &apos;89&apos;,\n",
       "  &apos;8.86&apos;,\n",
       "  &apos;6.6&apos;,\n",
       "  &apos;7&apos;,\n",
       "  &apos;1.78&apos;,\n",
       "  &apos;2&apos;,\n",
       "  &apos;FALSE&apos;],\n",
       " [&apos;OK&apos;,\n",
       "  &apos;75&apos;,\n",
       "  &apos;415&apos;,\n",
       "  &apos;330-6626&apos;,\n",
       "  &apos;yes&apos;,\n",
       "  &apos;no&apos;,\n",
       "  &apos;0&apos;,\n",
       "  &apos;166.7&apos;,\n",
       "  &apos;113&apos;,\n",
       "  &apos;28.34&apos;,\n",
       "  &apos;148.3&apos;,\n",
       "  &apos;122&apos;,\n",
       "  &apos;12.61&apos;,\n",
       "  &apos;186.9&apos;,\n",
       "  &apos;121&apos;,\n",
       "  &apos;8.41&apos;,\n",
       "  &apos;10.1&apos;,\n",
       "  &apos;3&apos;,\n",
       "  &apos;2.73&apos;,\n",
       "  &apos;3&apos;,\n",
       "  &apos;FALSE&apos;]]\n",
       "</div>"
      ]
     },
     "metadata": {},
     "output_type": "display_data"
    }
   ],
   "source": [
    "#creating dataframe\n",
    "from numpy import array\n",
    "cleanData =  sent.map(lambda line: [x for x in line.split(',')])\n",
    "cleanData.take(5)"
   ]
  },
  {
   "cell_type": "code",
   "execution_count": 7,
   "metadata": {
    "scrolled": false
   },
   "outputs": [
    {
     "data": {
      "text/html": [
       "<style scoped>\n",
       "  .ansiout {\n",
       "    display: block;\n",
       "    unicode-bidi: embed;\n",
       "    white-space: pre-wrap;\n",
       "    word-wrap: break-word;\n",
       "    word-break: break-all;\n",
       "    font-family: \"Source Code Pro\", \"Menlo\", monospace;;\n",
       "    font-size: 13px;\n",
       "    color: #555;\n",
       "    margin-left: 4px;\n",
       "    line-height: 19px;\n",
       "  }\n",
       "</style>\n",
       "<div class=\"ansiout\"><span class=\"ansired\">Out[</span><span class=\"ansired\">13</span><span class=\"ansired\">]: </span>\n",
       "[array([&apos;KS&apos;, &apos;128&apos;, &apos;415&apos;, &apos;382-4657&apos;, &apos;no&apos;, &apos;yes&apos;, &apos;25&apos;, &apos;265.1&apos;, &apos;110&apos;,\n",
       "        &apos;45.07&apos;, &apos;197.4&apos;, &apos;99&apos;, &apos;16.78&apos;, &apos;244.7&apos;, &apos;91&apos;, &apos;11.01&apos;, &apos;10&apos;, &apos;3&apos;,\n",
       "        &apos;2.7&apos;, &apos;1&apos;, &apos;FALSE&apos;], \n",
       "       dtype=&apos;&lt;U8&apos;),\n",
       " array([&apos;OH&apos;, &apos;107&apos;, &apos;415&apos;, &apos;371-7191&apos;, &apos;no&apos;, &apos;yes&apos;, &apos;26&apos;, &apos;161.6&apos;, &apos;123&apos;,\n",
       "        &apos;27.47&apos;, &apos;195.5&apos;, &apos;103&apos;, &apos;16.62&apos;, &apos;254.4&apos;, &apos;103&apos;, &apos;11.45&apos;, &apos;13.7&apos;,\n",
       "        &apos;3&apos;, &apos;3.7&apos;, &apos;1&apos;, &apos;FALSE&apos;], \n",
       "       dtype=&apos;&lt;U8&apos;),\n",
       " array([&apos;NJ&apos;, &apos;137&apos;, &apos;415&apos;, &apos;358-1921&apos;, &apos;no&apos;, &apos;no&apos;, &apos;0&apos;, &apos;243.4&apos;, &apos;114&apos;,\n",
       "        &apos;41.38&apos;, &apos;121.2&apos;, &apos;110&apos;, &apos;10.3&apos;, &apos;162.6&apos;, &apos;104&apos;, &apos;7.32&apos;, &apos;12.2&apos;,\n",
       "        &apos;5&apos;, &apos;3.29&apos;, &apos;0&apos;, &apos;FALSE&apos;], \n",
       "       dtype=&apos;&lt;U8&apos;),\n",
       " array([&apos;OH&apos;, &apos;84&apos;, &apos;408&apos;, &apos;375-9999&apos;, &apos;yes&apos;, &apos;no&apos;, &apos;0&apos;, &apos;299.4&apos;, &apos;71&apos;,\n",
       "        &apos;50.9&apos;, &apos;61.9&apos;, &apos;88&apos;, &apos;5.26&apos;, &apos;196.9&apos;, &apos;89&apos;, &apos;8.86&apos;, &apos;6.6&apos;, &apos;7&apos;,\n",
       "        &apos;1.78&apos;, &apos;2&apos;, &apos;FALSE&apos;], \n",
       "       dtype=&apos;&lt;U8&apos;),\n",
       " array([&apos;OK&apos;, &apos;75&apos;, &apos;415&apos;, &apos;330-6626&apos;, &apos;yes&apos;, &apos;no&apos;, &apos;0&apos;, &apos;166.7&apos;, &apos;113&apos;,\n",
       "        &apos;28.34&apos;, &apos;148.3&apos;, &apos;122&apos;, &apos;12.61&apos;, &apos;186.9&apos;, &apos;121&apos;, &apos;8.41&apos;, &apos;10.1&apos;,\n",
       "        &apos;3&apos;, &apos;2.73&apos;, &apos;3&apos;, &apos;FALSE&apos;], \n",
       "       dtype=&apos;&lt;U8&apos;)]\n",
       "</div>"
      ]
     },
     "metadata": {},
     "output_type": "display_data"
    }
   ],
   "source": [
    "#splitting the file with ','\n",
    "from numpy import array\n",
    "data =  sent.map(lambda line: array([x for x in line.split(',')]))\n",
    "data.take(5)"
   ]
  },
  {
   "cell_type": "code",
   "execution_count": 8,
   "metadata": {},
   "outputs": [
    {
     "data": {
      "text/html": [
       "<style scoped>\n",
       "  .ansiout {\n",
       "    display: block;\n",
       "    unicode-bidi: embed;\n",
       "    white-space: pre-wrap;\n",
       "    word-wrap: break-word;\n",
       "    word-break: break-all;\n",
       "    font-family: \"Source Code Pro\", \"Menlo\", monospace;;\n",
       "    font-size: 13px;\n",
       "    color: #555;\n",
       "    margin-left: 4px;\n",
       "    line-height: 19px;\n",
       "  }\n",
       "</style>\n",
       "<div class=\"ansiout\"><span class=\"ansired\">Out[</span><span class=\"ansired\">14</span><span class=\"ansired\">]: </span>\n",
       "[array([ 128.  ,  415.  ,   25.  ,  265.1 ,  110.  ,   45.07,  197.4 ,\n",
       "          99.  ,   16.78,  244.7 ,   91.  ,   11.01,   10.  ,    3.  ,\n",
       "           2.7 ,    1.  ]),\n",
       " array([ 107.  ,  415.  ,   26.  ,  161.6 ,  123.  ,   27.47,  195.5 ,\n",
       "         103.  ,   16.62,  254.4 ,  103.  ,   11.45,   13.7 ,    3.  ,\n",
       "           3.7 ,    1.  ]),\n",
       " array([ 137.  ,  415.  ,    0.  ,  243.4 ,  114.  ,   41.38,  121.2 ,\n",
       "         110.  ,   10.3 ,  162.6 ,  104.  ,    7.32,   12.2 ,    5.  ,\n",
       "           3.29,    0.  ]),\n",
       " array([  84.  ,  408.  ,    0.  ,  299.4 ,   71.  ,   50.9 ,   61.9 ,\n",
       "          88.  ,    5.26,  196.9 ,   89.  ,    8.86,    6.6 ,    7.  ,\n",
       "           1.78,    2.  ]),\n",
       " array([  75.  ,  415.  ,    0.  ,  166.7 ,  113.  ,   28.34,  148.3 ,\n",
       "         122.  ,   12.61,  186.9 ,  121.  ,    8.41,   10.1 ,    3.  ,\n",
       "           2.73,    3.  ])]\n",
       "</div>"
      ]
     },
     "metadata": {},
     "output_type": "display_data"
    }
   ],
   "source": [
    "#Creating features\n",
    "X_features=data.map(lambda x: array([float(x[1]),float(x[2]),float(x[6]),float(x[7]),float(x[8]),float(x[9]),float(x[10]),float(x[11]),float(x[12]),float(x[13]),float(x[14]),float(x[15]),float(x[16]),float(x[17]),float(x[18]),float(x[19])]))\n",
    "X_features.take(5)"
   ]
  },
  {
   "cell_type": "code",
   "execution_count": 9,
   "metadata": {},
   "outputs": [
    {
     "data": {
      "text/html": [
       "<style scoped>\n",
       "  .ansiout {\n",
       "    display: block;\n",
       "    unicode-bidi: embed;\n",
       "    white-space: pre-wrap;\n",
       "    word-wrap: break-word;\n",
       "    word-break: break-all;\n",
       "    font-family: \"Source Code Pro\", \"Menlo\", monospace;;\n",
       "    font-size: 13px;\n",
       "    color: #555;\n",
       "    margin-left: 4px;\n",
       "    line-height: 19px;\n",
       "  }\n",
       "</style>\n",
       "<div class=\"ansiout\"></div>"
      ]
     },
     "metadata": {},
     "output_type": "display_data"
    }
   ],
   "source": [
    "#importing Kmeans, KMeans modelling from MLlib and creating clusters.\n",
    "from pyspark.mllib.clustering import KMeans, KMeansModel\n",
    "clusters = KMeans.train(X_features, 2, maxIterations=150, runs=10,initializationMode=\"random\",seed=42)"
   ]
  },
  {
   "cell_type": "code",
   "execution_count": 10,
   "metadata": {
    "scrolled": true
   },
   "outputs": [
    {
     "data": {
      "text/html": [
       "<style scoped>\n",
       "  .ansiout {\n",
       "    display: block;\n",
       "    unicode-bidi: embed;\n",
       "    white-space: pre-wrap;\n",
       "    word-wrap: break-word;\n",
       "    word-break: break-all;\n",
       "    font-family: \"Source Code Pro\", \"Menlo\", monospace;;\n",
       "    font-size: 13px;\n",
       "    color: #555;\n",
       "    margin-left: 4px;\n",
       "    line-height: 19px;\n",
       "  }\n",
       "</style>\n",
       "<div class=\"ansiout\"></div>"
      ]
     },
     "metadata": {},
     "output_type": "display_data"
    }
   ],
   "source": [
    "# Evaluate clustering by computing Within Set Sum of Squared Errors\n",
    "def error(point):\n",
    "    center = clusters.centers[clusters.predict(point)]\n",
    "    return sqrt(sum([x**2 for x in (point - center)]))"
   ]
  },
  {
   "cell_type": "code",
   "execution_count": 11,
   "metadata": {
    "scrolled": false
   },
   "outputs": [
    {
     "data": {
      "text/html": [
       "<style scoped>\n",
       "  .ansiout {\n",
       "    display: block;\n",
       "    unicode-bidi: embed;\n",
       "    white-space: pre-wrap;\n",
       "    word-wrap: break-word;\n",
       "    word-break: break-all;\n",
       "    font-family: \"Source Code Pro\", \"Menlo\", monospace;;\n",
       "    font-size: 13px;\n",
       "    color: #555;\n",
       "    margin-left: 4px;\n",
       "    line-height: 19px;\n",
       "  }\n",
       "</style>\n",
       "<div class=\"ansiout\">Within Set Sum of Squared Error = 335816.45605647075\n",
       "</div>"
      ]
     },
     "metadata": {},
     "output_type": "display_data"
    }
   ],
   "source": [
    "from math import sqrt\n",
    "WSSSE = X_features.map(lambda point: error(point)).reduce(lambda x, y: x + y)\n",
    "print(\"Within Set Sum of Squared Error = \" + str(WSSSE))"
   ]
  },
  {
   "cell_type": "code",
   "execution_count": 12,
   "metadata": {},
   "outputs": [
    {
     "data": {
      "text/html": [
       "<style scoped>\n",
       "  .ansiout {\n",
       "    display: block;\n",
       "    unicode-bidi: embed;\n",
       "    white-space: pre-wrap;\n",
       "    word-wrap: break-word;\n",
       "    word-break: break-all;\n",
       "    font-family: \"Source Code Pro\", \"Menlo\", monospace;;\n",
       "    font-size: 13px;\n",
       "    color: #555;\n",
       "    margin-left: 4px;\n",
       "    line-height: 19px;\n",
       "  }\n",
       "</style>\n",
       "<div class=\"ansiout\"></div>"
      ]
     },
     "metadata": {},
     "output_type": "display_data"
    }
   ],
   "source": [
    "# Import the necessary modules \n",
    "from pyspark.sql import Row\n",
    "\n",
    "# Map the RDD to a DF\n",
    "df = cleanData.map(lambda x: Row(state=x[0], \n",
    "                              account_length=x[1], \n",
    "                              area_code=x[2],\n",
    "                              phone_number=x[3],\n",
    "                              international_plan=x[4],\n",
    "                              voice_mail_plan=x[5], \n",
    "                              voice_mail_msgs=x[6],\n",
    "                              day_mins=x[7],\n",
    "                              day_calls=x[8],\n",
    "                              day_charges=x[9],\n",
    "                              eve_mins=x[10],\n",
    "                              eve_calls=x[11],\n",
    "                              eve_charges=x[12],\n",
    "                              nit_mins=x[13],\n",
    "                              nit_calls=x[14],\n",
    "                              nit_charges=x[15],\n",
    "                              intl_mins=x[16],\n",
    "                              intl_calls=x[17],\n",
    "                              intl_charges=x[18],\n",
    "                              customer_service_calls=x[19],\n",
    "                              churn=x[20])).toDF()"
   ]
  },
  {
   "cell_type": "code",
   "execution_count": 13,
   "metadata": {
    "scrolled": true
   },
   "outputs": [
    {
     "data": {
      "text/html": [
       "<style scoped>\n",
       "  .ansiout {\n",
       "    display: block;\n",
       "    unicode-bidi: embed;\n",
       "    white-space: pre-wrap;\n",
       "    word-wrap: break-word;\n",
       "    word-break: break-all;\n",
       "    font-family: \"Source Code Pro\", \"Menlo\", monospace;;\n",
       "    font-size: 13px;\n",
       "    color: #555;\n",
       "    margin-left: 4px;\n",
       "    line-height: 19px;\n",
       "  }\n",
       "</style>\n",
       "<div class=\"ansiout\">+--------------+---------+-----+----------------------+---------+-----------+--------+---------+-----------+--------+------------------+----------+------------+---------+---------+-----------+--------+------------+-----+---------------+---------------+\n",
       "account_length|area_code|churn|customer_service_calls|day_calls|day_charges|day_mins|eve_calls|eve_charges|eve_mins|international_plan|intl_calls|intl_charges|intl_mins|nit_calls|nit_charges|nit_mins|phone_number|state|voice_mail_msgs|voice_mail_plan|\n",
       "+--------------+---------+-----+----------------------+---------+-----------+--------+---------+-----------+--------+------------------+----------+------------+---------+---------+-----------+--------+------------+-----+---------------+---------------+\n",
       "           128|      415|FALSE|                     1|      110|      45.07|   265.1|       99|      16.78|   197.4|                no|         3|         2.7|       10|       91|      11.01|   244.7|    382-4657|   KS|             25|            yes|\n",
       "           107|      415|FALSE|                     1|      123|      27.47|   161.6|      103|      16.62|   195.5|                no|         3|         3.7|     13.7|      103|      11.45|   254.4|    371-7191|   OH|             26|            yes|\n",
       "           137|      415|FALSE|                     0|      114|      41.38|   243.4|      110|       10.3|   121.2|                no|         5|        3.29|     12.2|      104|       7.32|   162.6|    358-1921|   NJ|              0|             no|\n",
       "            84|      408|FALSE|                     2|       71|       50.9|   299.4|       88|       5.26|    61.9|               yes|         7|        1.78|      6.6|       89|       8.86|   196.9|    375-9999|   OH|              0|             no|\n",
       "            75|      415|FALSE|                     3|      113|      28.34|   166.7|      122|      12.61|   148.3|               yes|         3|        2.73|     10.1|      121|       8.41|   186.9|    330-6626|   OK|              0|             no|\n",
       "           118|      510|FALSE|                     0|       98|      37.98|   223.4|      101|      18.75|   220.6|               yes|         6|         1.7|      6.3|      118|       9.18|   203.9|    391-8027|   AL|              0|             no|\n",
       "           121|      510|FALSE|                     3|       88|      37.09|   218.2|      108|      29.62|   348.5|                no|         7|        2.03|      7.5|      118|       9.57|   212.6|    355-9993|   MA|             24|            yes|\n",
       "           147|      415|FALSE|                     0|       79|      26.69|     157|       94|       8.76|   103.1|               yes|         6|        1.92|      7.1|       96|       9.53|   211.8|    329-9001|   MO|              0|             no|\n",
       "           117|      408|FALSE|                     1|       97|      31.37|   184.5|       80|      29.89|   351.6|                no|         4|        2.35|      8.7|       90|       9.71|   215.8|    335-4719|   LA|              0|             no|\n",
       "           141|      415|FALSE|                     0|       84|      43.96|   258.6|      111|      18.87|     222|               yes|         5|        3.02|     11.2|       97|      14.69|   326.4|    330-8173|   WV|             37|            yes|\n",
       "            65|      415| TRUE|                     4|      137|      21.95|   129.1|       83|      19.42|   228.5|                no|         6|        3.43|     12.7|      111|        9.4|   208.8|    329-6603|   IN|              0|             no|\n",
       "            74|      415|FALSE|                     0|      127|      31.91|   187.7|      148|      13.89|   163.4|                no|         5|        2.46|      9.1|       94|       8.82|     196|    344-9403|   RI|              0|             no|\n",
       "           168|      408|FALSE|                     1|       96|       21.9|   128.8|       71|       8.92|   104.9|                no|         2|        3.02|     11.2|      128|       6.35|   141.1|    363-1107|   IA|              0|             no|\n",
       "            95|      510|FALSE|                     3|       88|      26.62|   156.6|       75|      21.05|   247.6|                no|         5|        3.32|     12.3|      115|       8.65|   192.3|    394-8006|   MT|              0|             no|\n",
       "            62|      415|FALSE|                     4|       70|      20.52|   120.7|       76|      26.11|   307.2|                no|         6|        3.54|     13.1|       99|       9.14|     203|    366-9238|   IA|              0|             no|\n",
       "           161|      415| TRUE|                     4|       67|      56.59|   332.9|       97|      27.01|   317.8|                no|         9|        1.46|      5.4|      128|       7.23|   160.6|    351-7269|   NY|              0|             no|\n",
       "            85|      408|FALSE|                     1|      139|      33.39|   196.4|       90|      23.88|   280.9|                no|         4|        3.73|     13.8|       75|       4.02|    89.3|    350-8884|   ID|             27|            yes|\n",
       "            93|      510|FALSE|                     3|      114|      32.42|   190.7|      111|      18.55|   218.2|                no|         3|        2.19|      8.1|      121|       5.83|   129.6|    386-2923|   VT|              0|             no|\n",
       "            76|      510|FALSE|                     1|       66|      32.25|   189.7|       65|      18.09|   212.8|                no|         5|         2.7|       10|      108|       7.46|   165.7|    356-2992|   VA|             33|            yes|\n",
       "            73|      415|FALSE|                     1|       90|      38.15|   224.4|       88|      13.56|   159.5|                no|         2|        3.51|       13|       74|       8.68|   192.8|    373-2782|   TX|              0|             no|\n",
       "+--------------+---------+-----+----------------------+---------+-----------+--------+---------+-----------+--------+------------------+----------+------------+---------+---------+-----------+--------+------------+-----+---------------+---------------+\n",
       "only showing top 20 rows\n",
       "\n",
       "</div>"
      ]
     },
     "metadata": {},
     "output_type": "display_data"
    }
   ],
   "source": [
    "df.show()"
   ]
  },
  {
   "cell_type": "code",
   "execution_count": 14,
   "metadata": {},
   "outputs": [
    {
     "data": {
      "text/html": [
       "<style scoped>\n",
       "  .ansiout {\n",
       "    display: block;\n",
       "    unicode-bidi: embed;\n",
       "    white-space: pre-wrap;\n",
       "    word-wrap: break-word;\n",
       "    word-break: break-all;\n",
       "    font-family: \"Source Code Pro\", \"Menlo\", monospace;;\n",
       "    font-size: 13px;\n",
       "    color: #555;\n",
       "    margin-left: 4px;\n",
       "    line-height: 19px;\n",
       "  }\n",
       "</style>\n",
       "<div class=\"ansiout\">root\n",
       "-- account_length: string (nullable = true)\n",
       "-- area_code: string (nullable = true)\n",
       "-- churn: string (nullable = true)\n",
       "-- customer_service_calls: string (nullable = true)\n",
       "-- day_calls: string (nullable = true)\n",
       "-- day_charges: string (nullable = true)\n",
       "-- day_mins: string (nullable = true)\n",
       "-- eve_calls: string (nullable = true)\n",
       "-- eve_charges: string (nullable = true)\n",
       "-- eve_mins: string (nullable = true)\n",
       "-- international_plan: string (nullable = true)\n",
       "-- intl_calls: string (nullable = true)\n",
       "-- intl_charges: string (nullable = true)\n",
       "-- intl_mins: string (nullable = true)\n",
       "-- nit_calls: string (nullable = true)\n",
       "-- nit_charges: string (nullable = true)\n",
       "-- nit_mins: string (nullable = true)\n",
       "-- phone_number: string (nullable = true)\n",
       "-- state: string (nullable = true)\n",
       "-- voice_mail_msgs: string (nullable = true)\n",
       "-- voice_mail_plan: string (nullable = true)\n",
       "\n",
       "</div>"
      ]
     },
     "metadata": {},
     "output_type": "display_data"
    }
   ],
   "source": [
    "df.printSchema()"
   ]
  },
  {
   "cell_type": "code",
   "execution_count": 15,
   "metadata": {},
   "outputs": [
    {
     "data": {
      "text/html": [
       "<style scoped>\n",
       "  .ansiout {\n",
       "    display: block;\n",
       "    unicode-bidi: embed;\n",
       "    white-space: pre-wrap;\n",
       "    word-wrap: break-word;\n",
       "    word-break: break-all;\n",
       "    font-family: \"Source Code Pro\", \"Menlo\", monospace;;\n",
       "    font-size: 13px;\n",
       "    color: #555;\n",
       "    margin-left: 4px;\n",
       "    line-height: 19px;\n",
       "  }\n",
       "</style>\n",
       "<div class=\"ansiout\"></div>"
      ]
     },
     "metadata": {},
     "output_type": "display_data"
    }
   ],
   "source": [
    "from pyspark.sql.types import *\n",
    "df = df.withColumn(\"account_length\", df[\"account_length\"].cast(FloatType())) \\\n",
    "     .withColumn(\"voice_mail_msgs\", df[\"voice_mail_msgs\"].cast(FloatType())) .withColumn(\"day_mins\", df[\"day_mins\"].cast(FloatType())) .withColumn(\"day_calls\", df[\"day_calls\"].cast(FloatType())) .withColumn(\"day_charges\", df[\"day_charges\"].cast(FloatType())) .withColumn(\"eve_mins\", df[\"eve_mins\"].cast(FloatType())) .withColumn(\"eve_calls\", df[\"eve_calls\"].cast(FloatType())) .withColumn(\"eve_charges\", df[\"eve_charges\"].cast(FloatType())) .withColumn(\"nit_mins\", df[\"nit_mins\"].cast(FloatType())) .withColumn(\"nit_calls\", df[\"nit_calls\"].cast(FloatType())) .withColumn(\"nit_charges\", df[\"nit_charges\"].cast(FloatType())) .withColumn(\"intl_mins\", df[\"intl_calls\"].cast(FloatType())) .withColumn(\"intl_calls\", df[\"intl_calls\"].cast(FloatType())) .withColumn(\"intl_charges\", df[\"intl_charges\"].cast(FloatType())) .withColumn(\"customer_service_calls\", df[\"customer_service_calls\"].cast(FloatType()))\n",
    "     #.withColumn(\"churn\", df[\"churn\"].cast(FloatType())) "
   ]
  },
  {
   "cell_type": "code",
   "execution_count": 16,
   "metadata": {},
   "outputs": [
    {
     "data": {
      "text/html": [
       "<style scoped>\n",
       "  .ansiout {\n",
       "    display: block;\n",
       "    unicode-bidi: embed;\n",
       "    white-space: pre-wrap;\n",
       "    word-wrap: break-word;\n",
       "    word-break: break-all;\n",
       "    font-family: \"Source Code Pro\", \"Menlo\", monospace;;\n",
       "    font-size: 13px;\n",
       "    color: #555;\n",
       "    margin-left: 4px;\n",
       "    line-height: 19px;\n",
       "  }\n",
       "</style>\n",
       "<div class=\"ansiout\">root\n",
       "-- account_length: float (nullable = true)\n",
       "-- area_code: string (nullable = true)\n",
       "-- churn: string (nullable = true)\n",
       "-- customer_service_calls: float (nullable = true)\n",
       "-- day_calls: float (nullable = true)\n",
       "-- day_charges: float (nullable = true)\n",
       "-- day_mins: float (nullable = true)\n",
       "-- eve_calls: float (nullable = true)\n",
       "-- eve_charges: float (nullable = true)\n",
       "-- eve_mins: float (nullable = true)\n",
       "-- international_plan: string (nullable = true)\n",
       "-- intl_calls: float (nullable = true)\n",
       "-- intl_charges: float (nullable = true)\n",
       "-- intl_mins: float (nullable = true)\n",
       "-- nit_calls: float (nullable = true)\n",
       "-- nit_charges: float (nullable = true)\n",
       "-- nit_mins: float (nullable = true)\n",
       "-- phone_number: string (nullable = true)\n",
       "-- state: string (nullable = true)\n",
       "-- voice_mail_msgs: float (nullable = true)\n",
       "-- voice_mail_plan: string (nullable = true)\n",
       "\n",
       "</div>"
      ]
     },
     "metadata": {},
     "output_type": "display_data"
    }
   ],
   "source": [
    "#Checking schema of variables\n",
    "df.printSchema()"
   ]
  },
  {
   "cell_type": "code",
   "execution_count": 17,
   "metadata": {
    "scrolled": true
   },
   "outputs": [
    {
     "data": {
      "text/html": [
       "<style scoped>\n",
       "  .ansiout {\n",
       "    display: block;\n",
       "    unicode-bidi: embed;\n",
       "    white-space: pre-wrap;\n",
       "    word-wrap: break-word;\n",
       "    word-break: break-all;\n",
       "    font-family: \"Source Code Pro\", \"Menlo\", monospace;;\n",
       "    font-size: 13px;\n",
       "    color: #555;\n",
       "    margin-left: 4px;\n",
       "    line-height: 19px;\n",
       "  }\n",
       "</style>\n",
       "<div class=\"ansiout\">+--------------+---------------+\n",
       "account_length|voice_mail_msgs|\n",
       "+--------------+---------------+\n",
       "         128.0|           25.0|\n",
       "         107.0|           26.0|\n",
       "         137.0|            0.0|\n",
       "          84.0|            0.0|\n",
       "          75.0|            0.0|\n",
       "         118.0|            0.0|\n",
       "         121.0|           24.0|\n",
       "         147.0|            0.0|\n",
       "         117.0|            0.0|\n",
       "         141.0|           37.0|\n",
       "+--------------+---------------+\n",
       "only showing top 10 rows\n",
       "\n",
       "</div>"
      ]
     },
     "metadata": {},
     "output_type": "display_data"
    }
   ],
   "source": [
    "df.select('account_length','voice_mail_msgs').show(10)"
   ]
  },
  {
   "cell_type": "code",
   "execution_count": 18,
   "metadata": {
    "scrolled": true
   },
   "outputs": [
    {
     "data": {
      "text/html": [
       "<style scoped>\n",
       "  .ansiout {\n",
       "    display: block;\n",
       "    unicode-bidi: embed;\n",
       "    white-space: pre-wrap;\n",
       "    word-wrap: break-word;\n",
       "    word-break: break-all;\n",
       "    font-family: \"Source Code Pro\", \"Menlo\", monospace;;\n",
       "    font-size: 13px;\n",
       "    color: #555;\n",
       "    margin-left: 4px;\n",
       "    line-height: 19px;\n",
       "  }\n",
       "</style>\n",
       "<div class=\"ansiout\">root\n",
       "-- account_length: float (nullable = true)\n",
       "-- area_code: string (nullable = true)\n",
       "-- churn: string (nullable = true)\n",
       "-- customer_service_calls: float (nullable = true)\n",
       "-- day_calls: float (nullable = true)\n",
       "-- day_charges: float (nullable = true)\n",
       "-- day_mins: float (nullable = true)\n",
       "-- eve_calls: float (nullable = true)\n",
       "-- eve_charges: float (nullable = true)\n",
       "-- eve_mins: float (nullable = true)\n",
       "-- international_plan: string (nullable = true)\n",
       "-- intl_calls: float (nullable = true)\n",
       "-- intl_charges: float (nullable = true)\n",
       "-- intl_mins: float (nullable = true)\n",
       "-- nit_calls: float (nullable = true)\n",
       "-- nit_charges: float (nullable = true)\n",
       "-- nit_mins: float (nullable = true)\n",
       "-- phone_number: string (nullable = true)\n",
       "-- state: string (nullable = true)\n",
       "-- voice_mail_msgs: float (nullable = true)\n",
       "-- voice_mail_plan: string (nullable = true)\n",
       "\n",
       "</div>"
      ]
     },
     "metadata": {},
     "output_type": "display_data"
    }
   ],
   "source": [
    "df.printSchema()"
   ]
  },
  {
   "cell_type": "code",
   "execution_count": 19,
   "metadata": {},
   "outputs": [
    {
     "data": {
      "text/html": [
       "<style scoped>\n",
       "  .ansiout {\n",
       "    display: block;\n",
       "    unicode-bidi: embed;\n",
       "    white-space: pre-wrap;\n",
       "    word-wrap: break-word;\n",
       "    word-break: break-all;\n",
       "    font-family: \"Source Code Pro\", \"Menlo\", monospace;;\n",
       "    font-size: 13px;\n",
       "    color: #555;\n",
       "    margin-left: 4px;\n",
       "    line-height: 19px;\n",
       "  }\n",
       "</style>\n",
       "<div class=\"ansiout\">+-----+-----+\n",
       "churn|count|\n",
       "+-----+-----+\n",
       "FALSE|  186|\n",
       " TRUE|  137|\n",
       "+-----+-----+\n",
       "\n",
       "</div>"
      ]
     },
     "metadata": {},
     "output_type": "display_data"
    }
   ],
   "source": [
    "#Checking the count of churned and non-churned customers if they have international plan.\n",
    "df.filter(df.international_plan == True).groupby(df.churn).count().show()"
   ]
  },
  {
   "cell_type": "markdown",
   "metadata": {},
   "source": [
    "### From the above results we could see that if the customer is having an international plan, number of customers who are willing to churn are more. 73% of the people with international plan are churned."
   ]
  },
  {
   "cell_type": "code",
   "execution_count": 21,
   "metadata": {},
   "outputs": [
    {
     "data": {
      "text/html": [
       "<style scoped>\n",
       "  .ansiout {\n",
       "    display: block;\n",
       "    unicode-bidi: embed;\n",
       "    white-space: pre-wrap;\n",
       "    word-wrap: break-word;\n",
       "    word-break: break-all;\n",
       "    font-family: \"Source Code Pro\", \"Menlo\", monospace;;\n",
       "    font-size: 13px;\n",
       "    color: #555;\n",
       "    margin-left: 4px;\n",
       "    line-height: 19px;\n",
       "  }\n",
       "</style>\n",
       "<div class=\"ansiout\">+-----+-----+\n",
       "churn|count|\n",
       "+-----+-----+\n",
       "FALSE| 2664|\n",
       " TRUE|  346|\n",
       "+-----+-----+\n",
       "\n",
       "</div>"
      ]
     },
     "metadata": {},
     "output_type": "display_data"
    }
   ],
   "source": [
    "#Checking the same for the customers that churned that doesnot have international plan\n",
    "df.filter(df.international_plan == False).groupby(df.churn).count().show()"
   ]
  },
  {
   "cell_type": "markdown",
   "metadata": {},
   "source": [
    "### If the customer doesn't have an international plan, the percentage of customer's being churned are 12%. This can be interpretted in different ways. \n",
    "\n",
    "1) We could see that number of people with international plans are less compared to the number of people without international plan.\n",
    "2) As we checked the percentage of churned to non-churned in both the cases. we can see that churn is more for international plan customers. We can assume that the international plans are not good or the service is not good that might caused the churn."
   ]
  },
  {
   "cell_type": "code",
   "execution_count": 23,
   "metadata": {},
   "outputs": [
    {
     "data": {
      "text/html": [
       "<style scoped>\n",
       "  .ansiout {\n",
       "    display: block;\n",
       "    unicode-bidi: embed;\n",
       "    white-space: pre-wrap;\n",
       "    word-wrap: break-word;\n",
       "    word-break: break-all;\n",
       "    font-family: \"Source Code Pro\", \"Menlo\", monospace;;\n",
       "    font-size: 13px;\n",
       "    color: #555;\n",
       "    margin-left: 4px;\n",
       "    line-height: 19px;\n",
       "  }\n",
       "</style>\n",
       "<div class=\"ansiout\">+-----+---------------------------+\n",
       "churn|sum(customer_service_calls)|\n",
       "+-----+---------------------------+\n",
       "FALSE|                     4132.0|\n",
       " TRUE|                     1077.0|\n",
       "+-----+---------------------------+\n",
       "\n",
       "</div>"
      ]
     },
     "metadata": {},
     "output_type": "display_data"
    }
   ],
   "source": [
    "#Checkin the relation between customer service calls and churn\n",
    "df.groupBy(\"churn\").agg({'customer_service_calls': 'sum'}).show()"
   ]
  },
  {
   "cell_type": "markdown",
   "metadata": {},
   "source": [
    "### We assume that the people that make more customer service calls would churn. As per the results we could see that the people with more customer service calls churned. As there might be issues with the service or the service calls couldn't help to resolve the issue."
   ]
  },
  {
   "cell_type": "code",
   "execution_count": 25,
   "metadata": {},
   "outputs": [
    {
     "data": {
      "text/html": [
       "<style scoped>\n",
       "  .ansiout {\n",
       "    display: block;\n",
       "    unicode-bidi: embed;\n",
       "    white-space: pre-wrap;\n",
       "    word-wrap: break-word;\n",
       "    word-break: break-all;\n",
       "    font-family: \"Source Code Pro\", \"Menlo\", monospace;;\n",
       "    font-size: 13px;\n",
       "    color: #555;\n",
       "    margin-left: 4px;\n",
       "    line-height: 19px;\n",
       "  }\n",
       "</style>\n",
       "<div class=\"ansiout\">+---------+-----+\n",
       "area_code|count|\n",
       "+---------+-----+\n",
       "      415|  236|\n",
       "      510|  125|\n",
       "      408|  122|\n",
       "+---------+-----+\n",
       "\n",
       "</div>"
      ]
     },
     "metadata": {},
     "output_type": "display_data"
    }
   ],
   "source": [
    "# Exploring the customer churn with respect to area code.\n",
    "df.filter(df.churn == True).groupby(df.area_code).count().orderBy('count', ascending=False).show()"
   ]
  },
  {
   "cell_type": "markdown",
   "metadata": {},
   "source": [
    "### As per the above results we could see that the customers with area_code '415' churned the most with count of 256. followed by the area codes of '510' and '408'. Company could increase the service in that Area code or they might offer special packages for the customers with these area codes."
   ]
  },
  {
   "cell_type": "code",
   "execution_count": 27,
   "metadata": {
    "scrolled": true
   },
   "outputs": [
    {
     "data": {
      "text/html": [
       "<style scoped>\n",
       "  .ansiout {\n",
       "    display: block;\n",
       "    unicode-bidi: embed;\n",
       "    white-space: pre-wrap;\n",
       "    word-wrap: break-word;\n",
       "    word-break: break-all;\n",
       "    font-family: \"Source Code Pro\", \"Menlo\", monospace;;\n",
       "    font-size: 13px;\n",
       "    color: #555;\n",
       "    margin-left: 4px;\n",
       "    line-height: 19px;\n",
       "  }\n",
       "</style>\n",
       "<div class=\"ansiout\">+-------+------------------+------------------+-----+----------------------+------------------+-----------------+-----------------+------------------+------------------+-----------------+------------------+------------------+------------------+------------------+------------------+-----------------+------------------+------------+-----+------------------+---------------+\n",
       "summary|    account_length|         area_code|churn|customer_service_calls|         day_calls|      day_charges|         day_mins|         eve_calls|       eve_charges|         eve_mins|international_plan|        intl_calls|      intl_charges|         intl_mins|         nit_calls|      nit_charges|          nit_mins|phone_number|state|   voice_mail_msgs|voice_mail_plan|\n",
       "+-------+------------------+------------------+-----+----------------------+------------------+-----------------+-----------------+------------------+------------------+-----------------+------------------+------------------+------------------+------------------+------------------+-----------------+------------------+------------+-----+------------------+---------------+\n",
       "  count|              3333|              3333| 3333|                  3333|              3333|             3333|             3333|              3333|              3333|             3333|              3333|              3333|              3333|              3333|              3333|             3333|              3333|        3333| 3333|              3333|           3333|\n",
       "   mean|101.06480648064806|437.18241824182417| null|    1.5628562856285628|100.43564356435644|30.56230724989885|179.7750974000484|100.11431143114311|17.083540340032158|200.9803479203511|              null|4.4794479447944795|2.7645814588593534|4.4794479447944795|100.10771077107711|9.039324928681985|200.87203718311895|        null| null| 8.099009900990099|           null|\n",
       " stddev| 39.82210592859559| 42.37129048560662| null|    1.3154910448664765|20.069084207300897| 9.25943456473607|54.46738896165808|19.922625293943113| 4.310667642830489|50.71384437339831|              null| 2.461214270546093|0.7537726120916437| 2.461214270546093| 19.56860934605856|2.275872833666391|  50.5738471016932|        null| null|13.688365372038598|           null|\n",
       "    min|               1.0|               408|FALSE|                   0.0|               0.0|              0.0|              0.0|               0.0|               0.0|              0.0|                no|               0.0|               0.0|               0.0|              33.0|             1.04|              23.2|    327-1058|   AK|               0.0|             no|\n",
       "    max|             243.0|               510| TRUE|                   9.0|             165.0|            59.64|            350.8|             170.0|             30.91|            363.7|               yes|              20.0|               5.4|              20.0|             175.0|            17.77|             395.0|    422-9964|   WY|              51.0|            yes|\n",
       "+-------+------------------+------------------+-----+----------------------+------------------+-----------------+-----------------+------------------+------------------+-----------------+------------------+------------------+------------------+------------------+------------------+-----------------+------------------+------------+-----+------------------+---------------+\n",
       "\n",
       "</div>"
      ]
     },
     "metadata": {},
     "output_type": "display_data"
    }
   ],
   "source": [
    "df.describe().show()"
   ]
  },
  {
   "cell_type": "code",
   "execution_count": 28,
   "metadata": {
    "scrolled": true
   },
   "outputs": [
    {
     "data": {
      "text/html": [
       "<style scoped>\n",
       "  .ansiout {\n",
       "    display: block;\n",
       "    unicode-bidi: embed;\n",
       "    white-space: pre-wrap;\n",
       "    word-wrap: break-word;\n",
       "    word-break: break-all;\n",
       "    font-family: \"Source Code Pro\", \"Menlo\", monospace;;\n",
       "    font-size: 13px;\n",
       "    color: #555;\n",
       "    margin-left: 4px;\n",
       "    line-height: 19px;\n",
       "  }\n",
       "</style>\n",
       "<div class=\"ansiout\">+--------------+---------+-----+----------------------+---------+-----------+--------+---------+-----------+--------+------------------+----------+------------+---------+---------+-----------+--------+------------+-----+---------------+---------------+----------+\n",
       "account_length|area_code|churn|customer_service_calls|day_calls|day_charges|day_mins|eve_calls|eve_charges|eve_mins|international_plan|intl_calls|intl_charges|intl_mins|nit_calls|nit_charges|nit_mins|phone_number|state|voice_mail_msgs|voice_mail_plan|stateIndex|\n",
       "+--------------+---------+-----+----------------------+---------+-----------+--------+---------+-----------+--------+------------------+----------+------------+---------+---------+-----------+--------+------------+-----+---------------+---------------+----------+\n",
       "         128.0|      415|FALSE|                   1.0|    110.0|      45.07|   265.1|     99.0|      16.78|   197.4|                no|       3.0|         2.7|      3.0|     91.0|      11.01|   244.7|    382-4657|   KS|           25.0|            yes|      17.0|\n",
       "         107.0|      415|FALSE|                   1.0|    123.0|      27.47|   161.6|    103.0|      16.62|   195.5|                no|       3.0|         3.7|      3.0|    103.0|      11.45|   254.4|    371-7191|   OH|           26.0|            yes|       5.0|\n",
       "         137.0|      415|FALSE|                   0.0|    114.0|      41.38|   243.4|    110.0|       10.3|   121.2|                no|       5.0|        3.29|      5.0|    104.0|       7.32|   162.6|    358-1921|   NJ|            0.0|             no|      18.0|\n",
       "          84.0|      408|FALSE|                   2.0|     71.0|       50.9|   299.4|     88.0|       5.26|    61.9|               yes|       7.0|        1.78|      7.0|     89.0|       8.86|   196.9|    375-9999|   OH|            0.0|             no|       5.0|\n",
       "          75.0|      415|FALSE|                   3.0|    113.0|      28.34|   166.7|    122.0|      12.61|   148.3|               yes|       3.0|        2.73|      3.0|    121.0|       8.41|   186.9|    330-6626|   OK|            0.0|             no|      34.0|\n",
       "         118.0|      510|FALSE|                   0.0|     98.0|      37.98|   223.4|    101.0|      18.75|   220.6|               yes|       6.0|         1.7|      6.0|    118.0|       9.18|   203.9|    391-8027|   AL|            0.0|             no|       3.0|\n",
       "         121.0|      510|FALSE|                   3.0|     88.0|      37.09|   218.2|    108.0|      29.62|   348.5|                no|       7.0|        2.03|      7.0|    118.0|       9.57|   212.6|    355-9993|   MA|           24.0|            yes|      24.0|\n",
       "         147.0|      415|FALSE|                   0.0|     79.0|      26.69|   157.0|     94.0|       8.76|   103.1|               yes|       6.0|        1.92|      6.0|     96.0|       9.53|   211.8|    329-9001|   MO|            0.0|             no|      28.0|\n",
       "         117.0|      408|FALSE|                   1.0|     97.0|      31.37|   184.5|     80.0|      29.89|   351.6|                no|       4.0|        2.35|      4.0|     90.0|       9.71|   215.8|    335-4719|   LA|            0.0|             no|      47.0|\n",
       "         141.0|      415|FALSE|                   0.0|     84.0|      43.96|   258.6|    111.0|      18.87|   222.0|               yes|       5.0|        3.02|      5.0|     97.0|      14.69|   326.4|    330-8173|   WV|           37.0|            yes|       0.0|\n",
       "          65.0|      415| TRUE|                   4.0|    137.0|      21.95|   129.1|     83.0|      19.42|   228.5|                no|       6.0|        3.43|      6.0|    111.0|        9.4|   208.8|    329-6603|   IN|            0.0|             no|      15.0|\n",
       "          74.0|      415|FALSE|                   0.0|    127.0|      31.91|   187.7|    148.0|      13.89|   163.4|                no|       5.0|        2.46|      5.0|     94.0|       8.82|   196.0|    344-9403|   RI|            0.0|             no|      25.0|\n",
       "         168.0|      408|FALSE|                   1.0|     96.0|       21.9|   128.8|     71.0|       8.92|   104.9|                no|       2.0|        3.02|      2.0|    128.0|       6.35|   141.1|    363-1107|   IA|            0.0|             no|      49.0|\n",
       "          95.0|      510|FALSE|                   3.0|     88.0|      26.62|   156.6|     75.0|      21.05|   247.6|                no|       5.0|        3.32|      5.0|    115.0|       8.65|   192.3|    394-8006|   MT|            0.0|             no|      19.0|\n",
       "          62.0|      415|FALSE|                   4.0|     70.0|      20.52|   120.7|     76.0|      26.11|   307.2|                no|       6.0|        3.54|      6.0|     99.0|       9.14|   203.0|    366-9238|   IA|            0.0|             no|      49.0|\n",
       "         161.0|      415| TRUE|                   4.0|     67.0|      56.59|   332.9|     97.0|      27.01|   317.8|                no|       9.0|        1.46|      9.0|    128.0|       7.23|   160.6|    351-7269|   NY|            0.0|             no|       2.0|\n",
       "          85.0|      408|FALSE|                   1.0|    139.0|      33.39|   196.4|     90.0|      23.88|   280.9|                no|       4.0|        3.73|      4.0|     75.0|       4.02|    89.3|    350-8884|   ID|           27.0|            yes|      10.0|\n",
       "          93.0|      510|FALSE|                   3.0|    114.0|      32.42|   190.7|    111.0|      18.55|   218.2|                no|       3.0|        2.19|      3.0|    121.0|       5.83|   129.6|    386-2923|   VT|            0.0|             no|      11.0|\n",
       "          76.0|      510|FALSE|                   1.0|     66.0|      32.25|   189.7|     65.0|      18.09|   212.8|                no|       5.0|         2.7|      5.0|    108.0|       7.46|   165.7|    356-2992|   VA|           33.0|            yes|       8.0|\n",
       "          73.0|      415|FALSE|                   1.0|     90.0|      38.15|   224.4|     88.0|      13.56|   159.5|                no|       2.0|        3.51|      2.0|     74.0|       8.68|   192.8|    373-2782|   TX|            0.0|             no|      13.0|\n",
       "+--------------+---------+-----+----------------------+---------+-----------+--------+---------+-----------+--------+------------------+----------+------------+---------+---------+-----------+--------+------------+-----+---------------+---------------+----------+\n",
       "only showing top 20 rows\n",
       "\n",
       "</div>"
      ]
     },
     "metadata": {},
     "output_type": "display_data"
    }
   ],
   "source": [
    "#Created string indexes to a categorical variable in order to convert each category into a specific index(neumerical value)\n",
    "from pyspark.ml.feature import StringIndexer\n",
    "indexer_state = StringIndexer(inputCol=\"state\", outputCol=\"stateIndex\")\n",
    "indexed_state_df = indexer_state.fit(df).transform(df)\n",
    "indexed_state_df.show()"
   ]
  },
  {
   "cell_type": "code",
   "execution_count": 29,
   "metadata": {
    "scrolled": true
   },
   "outputs": [
    {
     "data": {
      "text/html": [
       "<style scoped>\n",
       "  .ansiout {\n",
       "    display: block;\n",
       "    unicode-bidi: embed;\n",
       "    white-space: pre-wrap;\n",
       "    word-wrap: break-word;\n",
       "    word-break: break-all;\n",
       "    font-family: \"Source Code Pro\", \"Menlo\", monospace;;\n",
       "    font-size: 13px;\n",
       "    color: #555;\n",
       "    margin-left: 4px;\n",
       "    line-height: 19px;\n",
       "  }\n",
       "</style>\n",
       "<div class=\"ansiout\">+--------------+---------+-----+----------------------+---------+-----------+--------+---------+-----------+--------+------------------+----------+------------+---------+---------+-----------+--------+------------+-----+---------------+---------------+----------+-------------+\n",
       "account_length|area_code|churn|customer_service_calls|day_calls|day_charges|day_mins|eve_calls|eve_charges|eve_mins|international_plan|intl_calls|intl_charges|intl_mins|nit_calls|nit_charges|nit_mins|phone_number|state|voice_mail_msgs|voice_mail_plan|stateIndex|intlplanIndex|\n",
       "+--------------+---------+-----+----------------------+---------+-----------+--------+---------+-----------+--------+------------------+----------+------------+---------+---------+-----------+--------+------------+-----+---------------+---------------+----------+-------------+\n",
       "         128.0|      415|FALSE|                   1.0|    110.0|      45.07|   265.1|     99.0|      16.78|   197.4|                no|       3.0|         2.7|      3.0|     91.0|      11.01|   244.7|    382-4657|   KS|           25.0|            yes|      17.0|          0.0|\n",
       "         107.0|      415|FALSE|                   1.0|    123.0|      27.47|   161.6|    103.0|      16.62|   195.5|                no|       3.0|         3.7|      3.0|    103.0|      11.45|   254.4|    371-7191|   OH|           26.0|            yes|       5.0|          0.0|\n",
       "         137.0|      415|FALSE|                   0.0|    114.0|      41.38|   243.4|    110.0|       10.3|   121.2|                no|       5.0|        3.29|      5.0|    104.0|       7.32|   162.6|    358-1921|   NJ|            0.0|             no|      18.0|          0.0|\n",
       "          84.0|      408|FALSE|                   2.0|     71.0|       50.9|   299.4|     88.0|       5.26|    61.9|               yes|       7.0|        1.78|      7.0|     89.0|       8.86|   196.9|    375-9999|   OH|            0.0|             no|       5.0|          1.0|\n",
       "          75.0|      415|FALSE|                   3.0|    113.0|      28.34|   166.7|    122.0|      12.61|   148.3|               yes|       3.0|        2.73|      3.0|    121.0|       8.41|   186.9|    330-6626|   OK|            0.0|             no|      34.0|          1.0|\n",
       "         118.0|      510|FALSE|                   0.0|     98.0|      37.98|   223.4|    101.0|      18.75|   220.6|               yes|       6.0|         1.7|      6.0|    118.0|       9.18|   203.9|    391-8027|   AL|            0.0|             no|       3.0|          1.0|\n",
       "         121.0|      510|FALSE|                   3.0|     88.0|      37.09|   218.2|    108.0|      29.62|   348.5|                no|       7.0|        2.03|      7.0|    118.0|       9.57|   212.6|    355-9993|   MA|           24.0|            yes|      24.0|          0.0|\n",
       "         147.0|      415|FALSE|                   0.0|     79.0|      26.69|   157.0|     94.0|       8.76|   103.1|               yes|       6.0|        1.92|      6.0|     96.0|       9.53|   211.8|    329-9001|   MO|            0.0|             no|      28.0|          1.0|\n",
       "         117.0|      408|FALSE|                   1.0|     97.0|      31.37|   184.5|     80.0|      29.89|   351.6|                no|       4.0|        2.35|      4.0|     90.0|       9.71|   215.8|    335-4719|   LA|            0.0|             no|      47.0|          0.0|\n",
       "         141.0|      415|FALSE|                   0.0|     84.0|      43.96|   258.6|    111.0|      18.87|   222.0|               yes|       5.0|        3.02|      5.0|     97.0|      14.69|   326.4|    330-8173|   WV|           37.0|            yes|       0.0|          1.0|\n",
       "          65.0|      415| TRUE|                   4.0|    137.0|      21.95|   129.1|     83.0|      19.42|   228.5|                no|       6.0|        3.43|      6.0|    111.0|        9.4|   208.8|    329-6603|   IN|            0.0|             no|      15.0|          0.0|\n",
       "          74.0|      415|FALSE|                   0.0|    127.0|      31.91|   187.7|    148.0|      13.89|   163.4|                no|       5.0|        2.46|      5.0|     94.0|       8.82|   196.0|    344-9403|   RI|            0.0|             no|      25.0|          0.0|\n",
       "         168.0|      408|FALSE|                   1.0|     96.0|       21.9|   128.8|     71.0|       8.92|   104.9|                no|       2.0|        3.02|      2.0|    128.0|       6.35|   141.1|    363-1107|   IA|            0.0|             no|      49.0|          0.0|\n",
       "          95.0|      510|FALSE|                   3.0|     88.0|      26.62|   156.6|     75.0|      21.05|   247.6|                no|       5.0|        3.32|      5.0|    115.0|       8.65|   192.3|    394-8006|   MT|            0.0|             no|      19.0|          0.0|\n",
       "          62.0|      415|FALSE|                   4.0|     70.0|      20.52|   120.7|     76.0|      26.11|   307.2|                no|       6.0|        3.54|      6.0|     99.0|       9.14|   203.0|    366-9238|   IA|            0.0|             no|      49.0|          0.0|\n",
       "         161.0|      415| TRUE|                   4.0|     67.0|      56.59|   332.9|     97.0|      27.01|   317.8|                no|       9.0|        1.46|      9.0|    128.0|       7.23|   160.6|    351-7269|   NY|            0.0|             no|       2.0|          0.0|\n",
       "          85.0|      408|FALSE|                   1.0|    139.0|      33.39|   196.4|     90.0|      23.88|   280.9|                no|       4.0|        3.73|      4.0|     75.0|       4.02|    89.3|    350-8884|   ID|           27.0|            yes|      10.0|          0.0|\n",
       "          93.0|      510|FALSE|                   3.0|    114.0|      32.42|   190.7|    111.0|      18.55|   218.2|                no|       3.0|        2.19|      3.0|    121.0|       5.83|   129.6|    386-2923|   VT|            0.0|             no|      11.0|          0.0|\n",
       "          76.0|      510|FALSE|                   1.0|     66.0|      32.25|   189.7|     65.0|      18.09|   212.8|                no|       5.0|         2.7|      5.0|    108.0|       7.46|   165.7|    356-2992|   VA|           33.0|            yes|       8.0|          0.0|\n",
       "          73.0|      415|FALSE|                   1.0|     90.0|      38.15|   224.4|     88.0|      13.56|   159.5|                no|       2.0|        3.51|      2.0|     74.0|       8.68|   192.8|    373-2782|   TX|            0.0|             no|      13.0|          0.0|\n",
       "+--------------+---------+-----+----------------------+---------+-----------+--------+---------+-----------+--------+------------------+----------+------------+---------+---------+-----------+--------+------------+-----+---------------+---------------+----------+-------------+\n",
       "only showing top 20 rows\n",
       "\n",
       "</div>"
      ]
     },
     "metadata": {},
     "output_type": "display_data"
    }
   ],
   "source": [
    "#Further expanding the same logic to other categorical columns.\n",
    "from pyspark.ml.feature import StringIndexer\n",
    "indexer_intplan = StringIndexer(inputCol=\"international_plan\", outputCol=\"intlplanIndex\")\n",
    "indexed_state_intplan_df = indexer_intplan.fit(indexed_state_df).transform(indexed_state_df)\n",
    "indexed_state_intplan_df.show()"
   ]
  },
  {
   "cell_type": "code",
   "execution_count": 30,
   "metadata": {
    "scrolled": true
   },
   "outputs": [
    {
     "data": {
      "text/html": [
       "<style scoped>\n",
       "  .ansiout {\n",
       "    display: block;\n",
       "    unicode-bidi: embed;\n",
       "    white-space: pre-wrap;\n",
       "    word-wrap: break-word;\n",
       "    word-break: break-all;\n",
       "    font-family: \"Source Code Pro\", \"Menlo\", monospace;;\n",
       "    font-size: 13px;\n",
       "    color: #555;\n",
       "    margin-left: 4px;\n",
       "    line-height: 19px;\n",
       "  }\n",
       "</style>\n",
       "<div class=\"ansiout\">+--------------+---------+-----+----------------------+---------+-----------+--------+---------+-----------+--------+------------------+----------+------------+---------+---------+-----------+--------+------------+-----+---------------+---------------+----------+-------------+----------+\n",
       "account_length|area_code|churn|customer_service_calls|day_calls|day_charges|day_mins|eve_calls|eve_charges|eve_mins|international_plan|intl_calls|intl_charges|intl_mins|nit_calls|nit_charges|nit_mins|phone_number|state|voice_mail_msgs|voice_mail_plan|stateIndex|intlplanIndex|churnIndex|\n",
       "+--------------+---------+-----+----------------------+---------+-----------+--------+---------+-----------+--------+------------------+----------+------------+---------+---------+-----------+--------+------------+-----+---------------+---------------+----------+-------------+----------+\n",
       "         128.0|      415|FALSE|                   1.0|    110.0|      45.07|   265.1|     99.0|      16.78|   197.4|                no|       3.0|         2.7|      3.0|     91.0|      11.01|   244.7|    382-4657|   KS|           25.0|            yes|      17.0|          0.0|       0.0|\n",
       "         107.0|      415|FALSE|                   1.0|    123.0|      27.47|   161.6|    103.0|      16.62|   195.5|                no|       3.0|         3.7|      3.0|    103.0|      11.45|   254.4|    371-7191|   OH|           26.0|            yes|       5.0|          0.0|       0.0|\n",
       "         137.0|      415|FALSE|                   0.0|    114.0|      41.38|   243.4|    110.0|       10.3|   121.2|                no|       5.0|        3.29|      5.0|    104.0|       7.32|   162.6|    358-1921|   NJ|            0.0|             no|      18.0|          0.0|       0.0|\n",
       "          84.0|      408|FALSE|                   2.0|     71.0|       50.9|   299.4|     88.0|       5.26|    61.9|               yes|       7.0|        1.78|      7.0|     89.0|       8.86|   196.9|    375-9999|   OH|            0.0|             no|       5.0|          1.0|       0.0|\n",
       "          75.0|      415|FALSE|                   3.0|    113.0|      28.34|   166.7|    122.0|      12.61|   148.3|               yes|       3.0|        2.73|      3.0|    121.0|       8.41|   186.9|    330-6626|   OK|            0.0|             no|      34.0|          1.0|       0.0|\n",
       "         118.0|      510|FALSE|                   0.0|     98.0|      37.98|   223.4|    101.0|      18.75|   220.6|               yes|       6.0|         1.7|      6.0|    118.0|       9.18|   203.9|    391-8027|   AL|            0.0|             no|       3.0|          1.0|       0.0|\n",
       "         121.0|      510|FALSE|                   3.0|     88.0|      37.09|   218.2|    108.0|      29.62|   348.5|                no|       7.0|        2.03|      7.0|    118.0|       9.57|   212.6|    355-9993|   MA|           24.0|            yes|      24.0|          0.0|       0.0|\n",
       "         147.0|      415|FALSE|                   0.0|     79.0|      26.69|   157.0|     94.0|       8.76|   103.1|               yes|       6.0|        1.92|      6.0|     96.0|       9.53|   211.8|    329-9001|   MO|            0.0|             no|      28.0|          1.0|       0.0|\n",
       "         117.0|      408|FALSE|                   1.0|     97.0|      31.37|   184.5|     80.0|      29.89|   351.6|                no|       4.0|        2.35|      4.0|     90.0|       9.71|   215.8|    335-4719|   LA|            0.0|             no|      47.0|          0.0|       0.0|\n",
       "         141.0|      415|FALSE|                   0.0|     84.0|      43.96|   258.6|    111.0|      18.87|   222.0|               yes|       5.0|        3.02|      5.0|     97.0|      14.69|   326.4|    330-8173|   WV|           37.0|            yes|       0.0|          1.0|       0.0|\n",
       "          65.0|      415| TRUE|                   4.0|    137.0|      21.95|   129.1|     83.0|      19.42|   228.5|                no|       6.0|        3.43|      6.0|    111.0|        9.4|   208.8|    329-6603|   IN|            0.0|             no|      15.0|          0.0|       1.0|\n",
       "          74.0|      415|FALSE|                   0.0|    127.0|      31.91|   187.7|    148.0|      13.89|   163.4|                no|       5.0|        2.46|      5.0|     94.0|       8.82|   196.0|    344-9403|   RI|            0.0|             no|      25.0|          0.0|       0.0|\n",
       "         168.0|      408|FALSE|                   1.0|     96.0|       21.9|   128.8|     71.0|       8.92|   104.9|                no|       2.0|        3.02|      2.0|    128.0|       6.35|   141.1|    363-1107|   IA|            0.0|             no|      49.0|          0.0|       0.0|\n",
       "          95.0|      510|FALSE|                   3.0|     88.0|      26.62|   156.6|     75.0|      21.05|   247.6|                no|       5.0|        3.32|      5.0|    115.0|       8.65|   192.3|    394-8006|   MT|            0.0|             no|      19.0|          0.0|       0.0|\n",
       "          62.0|      415|FALSE|                   4.0|     70.0|      20.52|   120.7|     76.0|      26.11|   307.2|                no|       6.0|        3.54|      6.0|     99.0|       9.14|   203.0|    366-9238|   IA|            0.0|             no|      49.0|          0.0|       0.0|\n",
       "         161.0|      415| TRUE|                   4.0|     67.0|      56.59|   332.9|     97.0|      27.01|   317.8|                no|       9.0|        1.46|      9.0|    128.0|       7.23|   160.6|    351-7269|   NY|            0.0|             no|       2.0|          0.0|       1.0|\n",
       "          85.0|      408|FALSE|                   1.0|    139.0|      33.39|   196.4|     90.0|      23.88|   280.9|                no|       4.0|        3.73|      4.0|     75.0|       4.02|    89.3|    350-8884|   ID|           27.0|            yes|      10.0|          0.0|       0.0|\n",
       "          93.0|      510|FALSE|                   3.0|    114.0|      32.42|   190.7|    111.0|      18.55|   218.2|                no|       3.0|        2.19|      3.0|    121.0|       5.83|   129.6|    386-2923|   VT|            0.0|             no|      11.0|          0.0|       0.0|\n",
       "          76.0|      510|FALSE|                   1.0|     66.0|      32.25|   189.7|     65.0|      18.09|   212.8|                no|       5.0|         2.7|      5.0|    108.0|       7.46|   165.7|    356-2992|   VA|           33.0|            yes|       8.0|          0.0|       0.0|\n",
       "          73.0|      415|FALSE|                   1.0|     90.0|      38.15|   224.4|     88.0|      13.56|   159.5|                no|       2.0|        3.51|      2.0|     74.0|       8.68|   192.8|    373-2782|   TX|            0.0|             no|      13.0|          0.0|       0.0|\n",
       "+--------------+---------+-----+----------------------+---------+-----------+--------+---------+-----------+--------+------------------+----------+------------+---------+---------+-----------+--------+------------+-----+---------------+---------------+----------+-------------+----------+\n",
       "only showing top 20 rows\n",
       "\n",
       "</div>"
      ]
     },
     "metadata": {},
     "output_type": "display_data"
    }
   ],
   "source": [
    "#Expanding indexes to further to dependent variables.\n",
    "from pyspark.ml.feature import StringIndexer\n",
    "indexer_churn = StringIndexer(inputCol=\"churn\", outputCol=\"churnIndex\")\n",
    "indexed_c_s_ip_df = indexer_churn.fit(indexed_state_intplan_df).transform(indexed_state_intplan_df)\n",
    "indexed_c_s_ip_df.show()"
   ]
  },
  {
   "cell_type": "code",
   "execution_count": 31,
   "metadata": {},
   "outputs": [
    {
     "data": {
      "text/html": [
       "<style scoped>\n",
       "  .ansiout {\n",
       "    display: block;\n",
       "    unicode-bidi: embed;\n",
       "    white-space: pre-wrap;\n",
       "    word-wrap: break-word;\n",
       "    word-break: break-all;\n",
       "    font-family: \"Source Code Pro\", \"Menlo\", monospace;;\n",
       "    font-size: 13px;\n",
       "    color: #555;\n",
       "    margin-left: 4px;\n",
       "    line-height: 19px;\n",
       "  }\n",
       "</style>\n",
       "<div class=\"ansiout\">+--------------+---------+-----+----------------------+---------+-----------+--------+---------+-----------+--------+------------------+----------+------------+---------+---------+-----------+--------+------------+-----+---------------+---------------+----------+-------------+----------+--------------+\n",
       "account_length|area_code|churn|customer_service_calls|day_calls|day_charges|day_mins|eve_calls|eve_charges|eve_mins|international_plan|intl_calls|intl_charges|intl_mins|nit_calls|nit_charges|nit_mins|phone_number|state|voice_mail_msgs|voice_mail_plan|stateIndex|intlplanIndex|churnIndex|voiceplanIndex|\n",
       "+--------------+---------+-----+----------------------+---------+-----------+--------+---------+-----------+--------+------------------+----------+------------+---------+---------+-----------+--------+------------+-----+---------------+---------------+----------+-------------+----------+--------------+\n",
       "         128.0|      415|FALSE|                   1.0|    110.0|      45.07|   265.1|     99.0|      16.78|   197.4|                no|       3.0|         2.7|      3.0|     91.0|      11.01|   244.7|    382-4657|   KS|           25.0|            yes|      17.0|          0.0|       0.0|           1.0|\n",
       "         107.0|      415|FALSE|                   1.0|    123.0|      27.47|   161.6|    103.0|      16.62|   195.5|                no|       3.0|         3.7|      3.0|    103.0|      11.45|   254.4|    371-7191|   OH|           26.0|            yes|       5.0|          0.0|       0.0|           1.0|\n",
       "         137.0|      415|FALSE|                   0.0|    114.0|      41.38|   243.4|    110.0|       10.3|   121.2|                no|       5.0|        3.29|      5.0|    104.0|       7.32|   162.6|    358-1921|   NJ|            0.0|             no|      18.0|          0.0|       0.0|           0.0|\n",
       "          84.0|      408|FALSE|                   2.0|     71.0|       50.9|   299.4|     88.0|       5.26|    61.9|               yes|       7.0|        1.78|      7.0|     89.0|       8.86|   196.9|    375-9999|   OH|            0.0|             no|       5.0|          1.0|       0.0|           0.0|\n",
       "          75.0|      415|FALSE|                   3.0|    113.0|      28.34|   166.7|    122.0|      12.61|   148.3|               yes|       3.0|        2.73|      3.0|    121.0|       8.41|   186.9|    330-6626|   OK|            0.0|             no|      34.0|          1.0|       0.0|           0.0|\n",
       "         118.0|      510|FALSE|                   0.0|     98.0|      37.98|   223.4|    101.0|      18.75|   220.6|               yes|       6.0|         1.7|      6.0|    118.0|       9.18|   203.9|    391-8027|   AL|            0.0|             no|       3.0|          1.0|       0.0|           0.0|\n",
       "         121.0|      510|FALSE|                   3.0|     88.0|      37.09|   218.2|    108.0|      29.62|   348.5|                no|       7.0|        2.03|      7.0|    118.0|       9.57|   212.6|    355-9993|   MA|           24.0|            yes|      24.0|          0.0|       0.0|           1.0|\n",
       "         147.0|      415|FALSE|                   0.0|     79.0|      26.69|   157.0|     94.0|       8.76|   103.1|               yes|       6.0|        1.92|      6.0|     96.0|       9.53|   211.8|    329-9001|   MO|            0.0|             no|      28.0|          1.0|       0.0|           0.0|\n",
       "         117.0|      408|FALSE|                   1.0|     97.0|      31.37|   184.5|     80.0|      29.89|   351.6|                no|       4.0|        2.35|      4.0|     90.0|       9.71|   215.8|    335-4719|   LA|            0.0|             no|      47.0|          0.0|       0.0|           0.0|\n",
       "         141.0|      415|FALSE|                   0.0|     84.0|      43.96|   258.6|    111.0|      18.87|   222.0|               yes|       5.0|        3.02|      5.0|     97.0|      14.69|   326.4|    330-8173|   WV|           37.0|            yes|       0.0|          1.0|       0.0|           1.0|\n",
       "          65.0|      415| TRUE|                   4.0|    137.0|      21.95|   129.1|     83.0|      19.42|   228.5|                no|       6.0|        3.43|      6.0|    111.0|        9.4|   208.8|    329-6603|   IN|            0.0|             no|      15.0|          0.0|       1.0|           0.0|\n",
       "          74.0|      415|FALSE|                   0.0|    127.0|      31.91|   187.7|    148.0|      13.89|   163.4|                no|       5.0|        2.46|      5.0|     94.0|       8.82|   196.0|    344-9403|   RI|            0.0|             no|      25.0|          0.0|       0.0|           0.0|\n",
       "         168.0|      408|FALSE|                   1.0|     96.0|       21.9|   128.8|     71.0|       8.92|   104.9|                no|       2.0|        3.02|      2.0|    128.0|       6.35|   141.1|    363-1107|   IA|            0.0|             no|      49.0|          0.0|       0.0|           0.0|\n",
       "          95.0|      510|FALSE|                   3.0|     88.0|      26.62|   156.6|     75.0|      21.05|   247.6|                no|       5.0|        3.32|      5.0|    115.0|       8.65|   192.3|    394-8006|   MT|            0.0|             no|      19.0|          0.0|       0.0|           0.0|\n",
       "          62.0|      415|FALSE|                   4.0|     70.0|      20.52|   120.7|     76.0|      26.11|   307.2|                no|       6.0|        3.54|      6.0|     99.0|       9.14|   203.0|    366-9238|   IA|            0.0|             no|      49.0|          0.0|       0.0|           0.0|\n",
       "         161.0|      415| TRUE|                   4.0|     67.0|      56.59|   332.9|     97.0|      27.01|   317.8|                no|       9.0|        1.46|      9.0|    128.0|       7.23|   160.6|    351-7269|   NY|            0.0|             no|       2.0|          0.0|       1.0|           0.0|\n",
       "          85.0|      408|FALSE|                   1.0|    139.0|      33.39|   196.4|     90.0|      23.88|   280.9|                no|       4.0|        3.73|      4.0|     75.0|       4.02|    89.3|    350-8884|   ID|           27.0|            yes|      10.0|          0.0|       0.0|           1.0|\n",
       "          93.0|      510|FALSE|                   3.0|    114.0|      32.42|   190.7|    111.0|      18.55|   218.2|                no|       3.0|        2.19|      3.0|    121.0|       5.83|   129.6|    386-2923|   VT|            0.0|             no|      11.0|          0.0|       0.0|           0.0|\n",
       "          76.0|      510|FALSE|                   1.0|     66.0|      32.25|   189.7|     65.0|      18.09|   212.8|                no|       5.0|         2.7|      5.0|    108.0|       7.46|   165.7|    356-2992|   VA|           33.0|            yes|       8.0|          0.0|       0.0|           1.0|\n",
       "          73.0|      415|FALSE|                   1.0|     90.0|      38.15|   224.4|     88.0|      13.56|   159.5|                no|       2.0|        3.51|      2.0|     74.0|       8.68|   192.8|    373-2782|   TX|            0.0|             no|      13.0|          0.0|       0.0|           0.0|\n",
       "+--------------+---------+-----+----------------------+---------+-----------+--------+---------+-----------+--------+------------------+----------+------------+---------+---------+-----------+--------+------------+-----+---------------+---------------+----------+-------------+----------+--------------+\n",
       "only showing top 20 rows\n",
       "\n",
       "</div>"
      ]
     },
     "metadata": {},
     "output_type": "display_data"
    }
   ],
   "source": [
    "from pyspark.ml.feature import StringIndexer\n",
    "indexer_vp = StringIndexer(inputCol=\"voice_mail_plan\", outputCol=\"voiceplanIndex\")\n",
    "indexed_c_s_ip_vp_df = indexer_vp.fit(indexed_c_s_ip_df).transform(indexed_c_s_ip_df)\n",
    "indexed_c_s_ip_vp_df.show()"
   ]
  },
  {
   "cell_type": "code",
   "execution_count": 32,
   "metadata": {
    "scrolled": true
   },
   "outputs": [
    {
     "data": {
      "text/html": [
       "<style scoped>\n",
       "  .ansiout {\n",
       "    display: block;\n",
       "    unicode-bidi: embed;\n",
       "    white-space: pre-wrap;\n",
       "    word-wrap: break-word;\n",
       "    word-break: break-all;\n",
       "    font-family: \"Source Code Pro\", \"Menlo\", monospace;;\n",
       "    font-size: 13px;\n",
       "    color: #555;\n",
       "    margin-left: 4px;\n",
       "    line-height: 19px;\n",
       "  }\n",
       "</style>\n",
       "<div class=\"ansiout\">+--------------+---------+-----+----------------------+---------+-----------+--------+---------+-----------+--------+------------------+----------+------------+---------+---------+-----------+--------+------------+-----+---------------+---------------+----------+-------------+----------+--------------+---------------+-------------+-------------+-------------+\n",
       "account_length|area_code|churn|customer_service_calls|day_calls|day_charges|day_mins|eve_calls|eve_charges|eve_mins|international_plan|intl_calls|intl_charges|intl_mins|nit_calls|nit_charges|nit_mins|phone_number|state|voice_mail_msgs|voice_mail_plan|stateIndex|intlplanIndex|churnIndex|voiceplanIndex|      stateVec1| intlplanvec1|voiceplanvec1|    churnvec1|\n",
       "+--------------+---------+-----+----------------------+---------+-----------+--------+---------+-----------+--------+------------------+----------+------------+---------+---------+-----------+--------+------------+-----+---------------+---------------+----------+-------------+----------+--------------+---------------+-------------+-------------+-------------+\n",
       "         128.0|      415|FALSE|                   1.0|    110.0|      45.07|   265.1|     99.0|      16.78|   197.4|                no|       3.0|         2.7|      3.0|     91.0|      11.01|   244.7|    382-4657|   KS|           25.0|            yes|      17.0|          0.0|       0.0|           1.0|(50,[17],[1.0])|(1,[0],[1.0])|    (1,[],[])|(1,[0],[1.0])|\n",
       "         107.0|      415|FALSE|                   1.0|    123.0|      27.47|   161.6|    103.0|      16.62|   195.5|                no|       3.0|         3.7|      3.0|    103.0|      11.45|   254.4|    371-7191|   OH|           26.0|            yes|       5.0|          0.0|       0.0|           1.0| (50,[5],[1.0])|(1,[0],[1.0])|    (1,[],[])|(1,[0],[1.0])|\n",
       "         137.0|      415|FALSE|                   0.0|    114.0|      41.38|   243.4|    110.0|       10.3|   121.2|                no|       5.0|        3.29|      5.0|    104.0|       7.32|   162.6|    358-1921|   NJ|            0.0|             no|      18.0|          0.0|       0.0|           0.0|(50,[18],[1.0])|(1,[0],[1.0])|(1,[0],[1.0])|(1,[0],[1.0])|\n",
       "          84.0|      408|FALSE|                   2.0|     71.0|       50.9|   299.4|     88.0|       5.26|    61.9|               yes|       7.0|        1.78|      7.0|     89.0|       8.86|   196.9|    375-9999|   OH|            0.0|             no|       5.0|          1.0|       0.0|           0.0| (50,[5],[1.0])|    (1,[],[])|(1,[0],[1.0])|(1,[0],[1.0])|\n",
       "          75.0|      415|FALSE|                   3.0|    113.0|      28.34|   166.7|    122.0|      12.61|   148.3|               yes|       3.0|        2.73|      3.0|    121.0|       8.41|   186.9|    330-6626|   OK|            0.0|             no|      34.0|          1.0|       0.0|           0.0|(50,[34],[1.0])|    (1,[],[])|(1,[0],[1.0])|(1,[0],[1.0])|\n",
       "         118.0|      510|FALSE|                   0.0|     98.0|      37.98|   223.4|    101.0|      18.75|   220.6|               yes|       6.0|         1.7|      6.0|    118.0|       9.18|   203.9|    391-8027|   AL|            0.0|             no|       3.0|          1.0|       0.0|           0.0| (50,[3],[1.0])|    (1,[],[])|(1,[0],[1.0])|(1,[0],[1.0])|\n",
       "         121.0|      510|FALSE|                   3.0|     88.0|      37.09|   218.2|    108.0|      29.62|   348.5|                no|       7.0|        2.03|      7.0|    118.0|       9.57|   212.6|    355-9993|   MA|           24.0|            yes|      24.0|          0.0|       0.0|           1.0|(50,[24],[1.0])|(1,[0],[1.0])|    (1,[],[])|(1,[0],[1.0])|\n",
       "         147.0|      415|FALSE|                   0.0|     79.0|      26.69|   157.0|     94.0|       8.76|   103.1|               yes|       6.0|        1.92|      6.0|     96.0|       9.53|   211.8|    329-9001|   MO|            0.0|             no|      28.0|          1.0|       0.0|           0.0|(50,[28],[1.0])|    (1,[],[])|(1,[0],[1.0])|(1,[0],[1.0])|\n",
       "         117.0|      408|FALSE|                   1.0|     97.0|      31.37|   184.5|     80.0|      29.89|   351.6|                no|       4.0|        2.35|      4.0|     90.0|       9.71|   215.8|    335-4719|   LA|            0.0|             no|      47.0|          0.0|       0.0|           0.0|(50,[47],[1.0])|(1,[0],[1.0])|(1,[0],[1.0])|(1,[0],[1.0])|\n",
       "         141.0|      415|FALSE|                   0.0|     84.0|      43.96|   258.6|    111.0|      18.87|   222.0|               yes|       5.0|        3.02|      5.0|     97.0|      14.69|   326.4|    330-8173|   WV|           37.0|            yes|       0.0|          1.0|       0.0|           1.0| (50,[0],[1.0])|    (1,[],[])|    (1,[],[])|(1,[0],[1.0])|\n",
       "          65.0|      415| TRUE|                   4.0|    137.0|      21.95|   129.1|     83.0|      19.42|   228.5|                no|       6.0|        3.43|      6.0|    111.0|        9.4|   208.8|    329-6603|   IN|            0.0|             no|      15.0|          0.0|       1.0|           0.0|(50,[15],[1.0])|(1,[0],[1.0])|(1,[0],[1.0])|    (1,[],[])|\n",
       "          74.0|      415|FALSE|                   0.0|    127.0|      31.91|   187.7|    148.0|      13.89|   163.4|                no|       5.0|        2.46|      5.0|     94.0|       8.82|   196.0|    344-9403|   RI|            0.0|             no|      25.0|          0.0|       0.0|           0.0|(50,[25],[1.0])|(1,[0],[1.0])|(1,[0],[1.0])|(1,[0],[1.0])|\n",
       "         168.0|      408|FALSE|                   1.0|     96.0|       21.9|   128.8|     71.0|       8.92|   104.9|                no|       2.0|        3.02|      2.0|    128.0|       6.35|   141.1|    363-1107|   IA|            0.0|             no|      49.0|          0.0|       0.0|           0.0|(50,[49],[1.0])|(1,[0],[1.0])|(1,[0],[1.0])|(1,[0],[1.0])|\n",
       "          95.0|      510|FALSE|                   3.0|     88.0|      26.62|   156.6|     75.0|      21.05|   247.6|                no|       5.0|        3.32|      5.0|    115.0|       8.65|   192.3|    394-8006|   MT|            0.0|             no|      19.0|          0.0|       0.0|           0.0|(50,[19],[1.0])|(1,[0],[1.0])|(1,[0],[1.0])|(1,[0],[1.0])|\n",
       "          62.0|      415|FALSE|                   4.0|     70.0|      20.52|   120.7|     76.0|      26.11|   307.2|                no|       6.0|        3.54|      6.0|     99.0|       9.14|   203.0|    366-9238|   IA|            0.0|             no|      49.0|          0.0|       0.0|           0.0|(50,[49],[1.0])|(1,[0],[1.0])|(1,[0],[1.0])|(1,[0],[1.0])|\n",
       "         161.0|      415| TRUE|                   4.0|     67.0|      56.59|   332.9|     97.0|      27.01|   317.8|                no|       9.0|        1.46|      9.0|    128.0|       7.23|   160.6|    351-7269|   NY|            0.0|             no|       2.0|          0.0|       1.0|           0.0| (50,[2],[1.0])|(1,[0],[1.0])|(1,[0],[1.0])|    (1,[],[])|\n",
       "          85.0|      408|FALSE|                   1.0|    139.0|      33.39|   196.4|     90.0|      23.88|   280.9|                no|       4.0|        3.73|      4.0|     75.0|       4.02|    89.3|    350-8884|   ID|           27.0|            yes|      10.0|          0.0|       0.0|           1.0|(50,[10],[1.0])|(1,[0],[1.0])|    (1,[],[])|(1,[0],[1.0])|\n",
       "          93.0|      510|FALSE|                   3.0|    114.0|      32.42|   190.7|    111.0|      18.55|   218.2|                no|       3.0|        2.19|      3.0|    121.0|       5.83|   129.6|    386-2923|   VT|            0.0|             no|      11.0|          0.0|       0.0|           0.0|(50,[11],[1.0])|(1,[0],[1.0])|(1,[0],[1.0])|(1,[0],[1.0])|\n",
       "          76.0|      510|FALSE|                   1.0|     66.0|      32.25|   189.7|     65.0|      18.09|   212.8|                no|       5.0|         2.7|      5.0|    108.0|       7.46|   165.7|    356-2992|   VA|           33.0|            yes|       8.0|          0.0|       0.0|           1.0| (50,[8],[1.0])|(1,[0],[1.0])|    (1,[],[])|(1,[0],[1.0])|\n",
       "          73.0|      415|FALSE|                   1.0|     90.0|      38.15|   224.4|     88.0|      13.56|   159.5|                no|       2.0|        3.51|      2.0|     74.0|       8.68|   192.8|    373-2782|   TX|            0.0|             no|      13.0|          0.0|       0.0|           0.0|(50,[13],[1.0])|(1,[0],[1.0])|(1,[0],[1.0])|(1,[0],[1.0])|\n",
       "+--------------+---------+-----+----------------------+---------+-----------+--------+---------+-----------+--------+------------------+----------+------------+---------+---------+-----------+--------+------------+-----+---------------+---------------+----------+-------------+----------+--------------+---------------+-------------+-------------+-------------+\n",
       "only showing top 20 rows\n",
       "\n",
       "</div>"
      ]
     },
     "metadata": {},
     "output_type": "display_data"
    }
   ],
   "source": [
    "#Applying onehot encoder to convert all the categorical variables into sparse matrices.\n",
    "from pyspark.ml.feature import OneHotEncoderEstimator\n",
    "encoder = OneHotEncoderEstimator(inputCols=[\"stateIndex\",\"intlplanIndex\",\"voiceplanIndex\",\"churnIndex\"],\n",
    "                                 outputCols=[\"stateVec1\",\"intlplanvec1\",\"voiceplanvec1\",\"churnvec1\"])\n",
    "model = encoder.fit(indexed_c_s_ip_vp_df)\n",
    "encoded = model.transform(indexed_c_s_ip_vp_df)\n",
    "encoded.show()"
   ]
  },
  {
   "cell_type": "code",
   "execution_count": 33,
   "metadata": {},
   "outputs": [
    {
     "data": {
      "text/html": [
       "<style scoped>\n",
       "  .ansiout {\n",
       "    display: block;\n",
       "    unicode-bidi: embed;\n",
       "    white-space: pre-wrap;\n",
       "    word-wrap: break-word;\n",
       "    word-break: break-all;\n",
       "    font-family: \"Source Code Pro\", \"Menlo\", monospace;;\n",
       "    font-size: 13px;\n",
       "    color: #555;\n",
       "    margin-left: 4px;\n",
       "    line-height: 19px;\n",
       "  }\n",
       "</style>\n",
       "<div class=\"ansiout\"></div>"
      ]
     },
     "metadata": {},
     "output_type": "display_data"
    }
   ],
   "source": [
    "# Assigning the variables to apply encoder.\n",
    "df1=encoded.select([c for c in encoded.columns if c not in {'state','area_code','phone_number','churn','stateIndex','intlplanIndex','voiceplanIndex','international_plan','voice_mail_plan'}])"
   ]
  },
  {
   "cell_type": "code",
   "execution_count": 34,
   "metadata": {
    "scrolled": false
   },
   "outputs": [
    {
     "data": {
      "text/html": [
       "<style scoped>\n",
       "  .ansiout {\n",
       "    display: block;\n",
       "    unicode-bidi: embed;\n",
       "    white-space: pre-wrap;\n",
       "    word-wrap: break-word;\n",
       "    word-break: break-all;\n",
       "    font-family: \"Source Code Pro\", \"Menlo\", monospace;;\n",
       "    font-size: 13px;\n",
       "    color: #555;\n",
       "    margin-left: 4px;\n",
       "    line-height: 19px;\n",
       "  }\n",
       "</style>\n",
       "<div class=\"ansiout\">+--------------+----------------------+---------+-----------+--------+---------+-----------+--------+----------+------------+---------+---------+-----------+--------+---------------+----------+---------------+-------------+-------------+-------------+\n",
       "account_length|customer_service_calls|day_calls|day_charges|day_mins|eve_calls|eve_charges|eve_mins|intl_calls|intl_charges|intl_mins|nit_calls|nit_charges|nit_mins|voice_mail_msgs|churnIndex|      stateVec1| intlplanvec1|voiceplanvec1|    churnvec1|\n",
       "+--------------+----------------------+---------+-----------+--------+---------+-----------+--------+----------+------------+---------+---------+-----------+--------+---------------+----------+---------------+-------------+-------------+-------------+\n",
       "         128.0|                   1.0|    110.0|      45.07|   265.1|     99.0|      16.78|   197.4|       3.0|         2.7|      3.0|     91.0|      11.01|   244.7|           25.0|       0.0|(50,[17],[1.0])|(1,[0],[1.0])|    (1,[],[])|(1,[0],[1.0])|\n",
       "         107.0|                   1.0|    123.0|      27.47|   161.6|    103.0|      16.62|   195.5|       3.0|         3.7|      3.0|    103.0|      11.45|   254.4|           26.0|       0.0| (50,[5],[1.0])|(1,[0],[1.0])|    (1,[],[])|(1,[0],[1.0])|\n",
       "+--------------+----------------------+---------+-----------+--------+---------+-----------+--------+----------+------------+---------+---------+-----------+--------+---------------+----------+---------------+-------------+-------------+-------------+\n",
       "only showing top 2 rows\n",
       "\n",
       "</div>"
      ]
     },
     "metadata": {},
     "output_type": "display_data"
    }
   ],
   "source": [
    "df1.show(2)"
   ]
  },
  {
   "cell_type": "code",
   "execution_count": 35,
   "metadata": {
    "scrolled": false
   },
   "outputs": [
    {
     "data": {
      "text/html": [
       "<style scoped>\n",
       "  .ansiout {\n",
       "    display: block;\n",
       "    unicode-bidi: embed;\n",
       "    white-space: pre-wrap;\n",
       "    word-wrap: break-word;\n",
       "    word-break: break-all;\n",
       "    font-family: \"Source Code Pro\", \"Menlo\", monospace;;\n",
       "    font-size: 13px;\n",
       "    color: #555;\n",
       "    margin-left: 4px;\n",
       "    line-height: 19px;\n",
       "  }\n",
       "</style>\n",
       "<div class=\"ansiout\">+--------------+----------------------+---------+-----------+--------+---------+-----------+--------+----------+------------+---------+---------+-----------+--------+---------------+----------+---------------+-------------+-------------+-------------+--------------------+\n",
       "account_length|customer_service_calls|day_calls|day_charges|day_mins|eve_calls|eve_charges|eve_mins|intl_calls|intl_charges|intl_mins|nit_calls|nit_charges|nit_mins|voice_mail_msgs|churnIndex|      stateVec1| intlplanvec1|voiceplanvec1|    churnvec1|            features|\n",
       "+--------------+----------------------+---------+-----------+--------+---------+-----------+--------+----------+------------+---------+---------+-----------+--------+---------------+----------+---------------+-------------+-------------+-------------+--------------------+\n",
       "         128.0|                   1.0|    110.0|      45.07|   265.1|     99.0|      16.78|   197.4|       3.0|         2.7|      3.0|     91.0|      11.01|   244.7|           25.0|       0.0|(50,[17],[1.0])|(1,[0],[1.0])|    (1,[],[])|(1,[0],[1.0])|(67,[0,1,2,3,4,5,...|\n",
       "         107.0|                   1.0|    123.0|      27.47|   161.6|    103.0|      16.62|   195.5|       3.0|         3.7|      3.0|    103.0|      11.45|   254.4|           26.0|       0.0| (50,[5],[1.0])|(1,[0],[1.0])|    (1,[],[])|(1,[0],[1.0])|(67,[0,1,2,3,4,5,...|\n",
       "+--------------+----------------------+---------+-----------+--------+---------+-----------+--------+----------+------------+---------+---------+-----------+--------+---------------+----------+---------------+-------------+-------------+-------------+--------------------+\n",
       "only showing top 2 rows\n",
       "\n",
       "</div>"
      ]
     },
     "metadata": {},
     "output_type": "display_data"
    }
   ],
   "source": [
    "#Selecting the required columns for features.\n",
    "from pyspark.ml.linalg import Vectors\n",
    "from pyspark.ml.feature import VectorAssembler\n",
    "\n",
    "assembler = VectorAssembler(\n",
    "    inputCols=[\"account_length\",\"customer_service_calls\",\"day_calls\",\"day_charges\",\"day_mins\",\"eve_calls\",\"eve_charges\",\"eve_mins\",\"intl_calls\",\"intl_charges\",\"intl_mins\",\"nit_calls\",\"nit_charges\",\"nit_mins\",\"voice_mail_msgs\",\"stateVec1\",\"intlplanvec1\",\"voiceplanvec1\"],\n",
    "    outputCol=\"features\")\n",
    "output = assembler.transform(df1)\n",
    "output.show(2)\n",
    "#output.select(\"features\").show(truncate=False)"
   ]
  },
  {
   "cell_type": "code",
   "execution_count": 36,
   "metadata": {},
   "outputs": [
    {
     "data": {
      "text/html": [
       "<style scoped>\n",
       "  .ansiout {\n",
       "    display: block;\n",
       "    unicode-bidi: embed;\n",
       "    white-space: pre-wrap;\n",
       "    word-wrap: break-word;\n",
       "    word-break: break-all;\n",
       "    font-family: \"Source Code Pro\", \"Menlo\", monospace;;\n",
       "    font-size: 13px;\n",
       "    color: #555;\n",
       "    margin-left: 4px;\n",
       "    line-height: 19px;\n",
       "  }\n",
       "</style>\n",
       "<div class=\"ansiout\">+--------------+----------------------+---------+-----------+--------+---------+-----------+--------+----------+------------+---------+---------+-----------+--------+---------------+----------+---------------+-------------+-------------+-------------+\n",
       "account_length|customer_service_calls|day_calls|day_charges|day_mins|eve_calls|eve_charges|eve_mins|intl_calls|intl_charges|intl_mins|nit_calls|nit_charges|nit_mins|voice_mail_msgs|churnIndex|      stateVec1| intlplanvec1|voiceplanvec1|    churnvec1|\n",
       "+--------------+----------------------+---------+-----------+--------+---------+-----------+--------+----------+------------+---------+---------+-----------+--------+---------------+----------+---------------+-------------+-------------+-------------+\n",
       "         128.0|                   1.0|    110.0|      45.07|   265.1|     99.0|      16.78|   197.4|       3.0|         2.7|      3.0|     91.0|      11.01|   244.7|           25.0|       0.0|(50,[17],[1.0])|(1,[0],[1.0])|    (1,[],[])|(1,[0],[1.0])|\n",
       "         107.0|                   1.0|    123.0|      27.47|   161.6|    103.0|      16.62|   195.5|       3.0|         3.7|      3.0|    103.0|      11.45|   254.4|           26.0|       0.0| (50,[5],[1.0])|(1,[0],[1.0])|    (1,[],[])|(1,[0],[1.0])|\n",
       "+--------------+----------------------+---------+-----------+--------+---------+-----------+--------+----------+------------+---------+---------+-----------+--------+---------------+----------+---------------+-------------+-------------+-------------+\n",
       "only showing top 2 rows\n",
       "\n",
       "</div>"
      ]
     },
     "metadata": {},
     "output_type": "display_data"
    }
   ],
   "source": [
    "df1.show(2)"
   ]
  },
  {
   "cell_type": "code",
   "execution_count": 37,
   "metadata": {
    "scrolled": true
   },
   "outputs": [
    {
     "data": {
      "text/html": [
       "<style scoped>\n",
       "  .ansiout {\n",
       "    display: block;\n",
       "    unicode-bidi: embed;\n",
       "    white-space: pre-wrap;\n",
       "    word-wrap: break-word;\n",
       "    word-break: break-all;\n",
       "    font-family: \"Source Code Pro\", \"Menlo\", monospace;;\n",
       "    font-size: 13px;\n",
       "    color: #555;\n",
       "    margin-left: 4px;\n",
       "    line-height: 19px;\n",
       "  }\n",
       "</style>\n",
       "<div class=\"ansiout\">+--------------------+-----+\n",
       "            features|label|\n",
       "+--------------------+-----+\n",
       "(67,[0,1,2,3,4,5,...|  0.0|\n",
       "(67,[0,1,2,3,4,5,...|  0.0|\n",
       "+--------------------+-----+\n",
       "only showing top 2 rows\n",
       "\n",
       "</div>"
      ]
     },
     "metadata": {},
     "output_type": "display_data"
    }
   ],
   "source": [
    "#Applying features and lables to provide the same to model.\n",
    "df_classifier = output.selectExpr(\"features as features\",\"churnIndex as label\")\n",
    "df_classifier.show(2)"
   ]
  },
  {
   "cell_type": "code",
   "execution_count": 38,
   "metadata": {},
   "outputs": [
    {
     "data": {
      "text/html": [
       "<style scoped>\n",
       "  .ansiout {\n",
       "    display: block;\n",
       "    unicode-bidi: embed;\n",
       "    white-space: pre-wrap;\n",
       "    word-wrap: break-word;\n",
       "    word-break: break-all;\n",
       "    font-family: \"Source Code Pro\", \"Menlo\", monospace;;\n",
       "    font-size: 13px;\n",
       "    color: #555;\n",
       "    margin-left: 4px;\n",
       "    line-height: 19px;\n",
       "  }\n",
       "</style>\n",
       "<div class=\"ansiout\">+--------------------+-------------+\n",
       "            features|        label|\n",
       "+--------------------+-------------+\n",
       "(67,[0,1,2,3,4,5,...|(1,[0],[1.0])|\n",
       "(67,[0,1,2,3,4,5,...|(1,[0],[1.0])|\n",
       "+--------------------+-------------+\n",
       "only showing top 2 rows\n",
       "\n",
       "</div>"
      ]
     },
     "metadata": {},
     "output_type": "display_data"
    }
   ],
   "source": [
    "df_log_reg = output.selectExpr(\"features as features\",\"churnvec1 as label\")\n",
    "df_log_reg.show(2)"
   ]
  },
  {
   "cell_type": "code",
   "execution_count": 39,
   "metadata": {},
   "outputs": [
    {
     "data": {
      "text/html": [
       "<style scoped>\n",
       "  .ansiout {\n",
       "    display: block;\n",
       "    unicode-bidi: embed;\n",
       "    white-space: pre-wrap;\n",
       "    word-wrap: break-word;\n",
       "    word-break: break-all;\n",
       "    font-family: \"Source Code Pro\", \"Menlo\", monospace;;\n",
       "    font-size: 13px;\n",
       "    color: #555;\n",
       "    margin-left: 4px;\n",
       "    line-height: 19px;\n",
       "  }\n",
       "</style>\n",
       "<div class=\"ansiout\">+--------------------+\n",
       "            features|\n",
       "+--------------------+\n",
       "(67,[0,1,2,3,4,5,...|\n",
       "+--------------------+\n",
       "only showing top 1 row\n",
       "\n",
       "</div>"
      ]
     },
     "metadata": {},
     "output_type": "display_data"
    }
   ],
   "source": [
    "df_log_reg.select(\"features\").show(1)"
   ]
  },
  {
   "cell_type": "code",
   "execution_count": 40,
   "metadata": {},
   "outputs": [
    {
     "data": {
      "text/html": [
       "<style scoped>\n",
       "  .ansiout {\n",
       "    display: block;\n",
       "    unicode-bidi: embed;\n",
       "    white-space: pre-wrap;\n",
       "    word-wrap: break-word;\n",
       "    word-break: break-all;\n",
       "    font-family: \"Source Code Pro\", \"Menlo\", monospace;;\n",
       "    font-size: 13px;\n",
       "    color: #555;\n",
       "    margin-left: 4px;\n",
       "    line-height: 19px;\n",
       "  }\n",
       "</style>\n",
       "<div class=\"ansiout\">Coefficients: (67,[],[])\n",
       "Intercept: -1.7750576196101235\n",
       "Multinomial coefficients: 2 X 67 CSRMatrix\n",
       "\n",
       "Multinomial intercepts: [0.887528802698,-0.887528802698]\n",
       "</div>"
      ]
     },
     "metadata": {},
     "output_type": "display_data"
    }
   ],
   "source": [
    "from pyspark.ml.classification import LogisticRegression\n",
    "lr = LogisticRegression(maxIter=10, regParam=0.3, elasticNetParam=0.5)\n",
    "# Fit the model\n",
    "lrModel = lr.fit(df_classifier)\n",
    "# Print the coefficients and intercept for logistic regression\n",
    "print(\"Coefficients: \" + str(lrModel.coefficients))\n",
    "print(\"Intercept: \" + str(lrModel.intercept))\n",
    "mlr = LogisticRegression(maxIter=10, regParam=0.3, elasticNetParam=0.8, family=\"multinomial\")\n",
    "\n",
    "# Fit the model\n",
    "mlrModel = mlr.fit(df_classifier)\n",
    "\n",
    "# Print the coefficients and intercepts for logistic regression with multinomial family\n",
    "print(\"Multinomial coefficients: \" + str(mlrModel.coefficientMatrix))\n",
    "print(\"Multinomial intercepts: \" + str(mlrModel.interceptVector))"
   ]
  },
  {
   "cell_type": "code",
   "execution_count": 41,
   "metadata": {},
   "outputs": [
    {
     "data": {
      "text/html": [
       "<style scoped>\n",
       "  .ansiout {\n",
       "    display: block;\n",
       "    unicode-bidi: embed;\n",
       "    white-space: pre-wrap;\n",
       "    word-wrap: break-word;\n",
       "    word-break: break-all;\n",
       "    font-family: \"Source Code Pro\", \"Menlo\", monospace;;\n",
       "    font-size: 13px;\n",
       "    color: #555;\n",
       "    margin-left: 4px;\n",
       "    line-height: 19px;\n",
       "  }\n",
       "</style>\n",
       "<div class=\"ansiout\">Accuracy: 0.8550855085508551\n",
       "FPR: 0.8550855085508551\n",
       "TPR: 0.8550855085508551\n",
       "F-measure: 0.7882884358304827\n",
       "Precision: 0.7311712269336745\n",
       "Recall: 0.8550855085508551\n",
       "areaUnderROC: 0.5 \n",
       "</div>"
      ]
     },
     "metadata": {},
     "output_type": "display_data"
    }
   ],
   "source": [
    "#Evaluation metrices\n",
    "trainingSummary = lrModel.summary\n",
    "# for multiclass, we can inspect metrics on a per-label basis\n",
    "\n",
    "print(\"Accuracy: %s\\nFPR: %s\\nTPR: %s\\nF-measure: %s\\nPrecision: %s\\nRecall: %s\\nareaUnderROC: %s \"\n",
    "      % (trainingSummary.accuracy, trainingSummary.weightedFalsePositiveRate, trainingSummary.weightedTruePositiveRate, trainingSummary.weightedFMeasure(), trainingSummary.weightedPrecision, trainingSummary.weightedRecall,trainingSummary.areaUnderROC ))"
   ]
  },
  {
   "cell_type": "code",
   "execution_count": 42,
   "metadata": {},
   "outputs": [
    {
     "data": {
      "text/html": [
       "<style scoped>\n",
       "  .ansiout {\n",
       "    display: block;\n",
       "    unicode-bidi: embed;\n",
       "    white-space: pre-wrap;\n",
       "    word-wrap: break-word;\n",
       "    word-break: break-all;\n",
       "    font-family: \"Source Code Pro\", \"Menlo\", monospace;;\n",
       "    font-size: 13px;\n",
       "    color: #555;\n",
       "    margin-left: 4px;\n",
       "    line-height: 19px;\n",
       "  }\n",
       "</style>\n",
       "<div class=\"ansiout\">Test Error = 0.0607287\n",
       "accuracy = 0.939271 \n",
       "DecisionTreeClassificationModel (uid=DecisionTreeClassifier_dd370542e896) of depth 5 with 53 nodes\n",
       "Test Area Under ROC: 0.45086643792495595\n",
       "<span class=\"ansired\">Out[</span><span class=\"ansired\">59</span><span class=\"ansired\">]: </span>0.45086643792495595\n",
       "</div>"
      ]
     },
     "metadata": {},
     "output_type": "display_data"
    }
   ],
   "source": [
    "from pyspark.ml import Pipeline\n",
    "from pyspark.ml.classification import DecisionTreeClassifier\n",
    "from pyspark.ml.feature import StringIndexer, VectorIndexer\n",
    "from pyspark.ml.evaluation import MulticlassClassificationEvaluator,BinaryClassificationEvaluator\n",
    "from pyspark.ml.tuning import CrossValidator, ParamGridBuilder\n",
    "# Split the data into training and test sets (30% held out for testing)\n",
    "(trainingData, testData) = df_classifier.randomSplit([0.7, 0.3])\n",
    "\n",
    "# Train a DecisionTree model.\n",
    "dt = DecisionTreeClassifier(labelCol=\"label\", featuresCol=\"features\")\n",
    "\n",
    "# Chain indexers and tree in a Pipeline\n",
    "#pipeline = Pipeline(stages=[labelIndexer, featureIndexer, dt])\n",
    "\n",
    "# Train model.  This also runs the indexers.\n",
    "model = dt.fit(trainingData)\n",
    "\n",
    "# Make predictions.\n",
    "predictions = model.transform(testData)\n",
    "\n",
    "# Select example rows to display.\n",
    "#predictions.select(\"prediction\", \"indexedLabel\", \"features\").show(5)\n",
    "\n",
    "# Select (prediction, true label) and compute test error\n",
    "evaluator = MulticlassClassificationEvaluator(labelCol=\"label\", predictionCol=\"prediction\", metricName=\"accuracy\")\n",
    "accuracy = evaluator.evaluate(predictions)\n",
    "print(\"Test Error = %g\\naccuracy = %g \" % ((1.0 - accuracy) ,accuracy))\n",
    "\n",
    "# summary only\n",
    "print(model)\n",
    "\n",
    "evaluator = BinaryClassificationEvaluator()\n",
    "print(\"Test Area Under ROC: \" + str(evaluator.evaluate(predictions, {evaluator.metricName: \"areaUnderROC\"})))\n",
    "\n",
    "paramGrid = (ParamGridBuilder()\n",
    "             .addGrid(dt.maxDepth, [2, 4, 6])\n",
    "             .addGrid(dt.maxBins, [20, 60])\n",
    "             .build())\n",
    "crossval = CrossValidator(estimator=dt, estimatorParamMaps=paramGrid, evaluator=evaluator, numFolds=5)\n",
    "\n",
    "cvModel = crossval.fit(trainingData)\n",
    "prediction = cvModel.transform(testData)\n",
    "evaluator.evaluate(predictions)"
   ]
  },
  {
   "cell_type": "code",
   "execution_count": 43,
   "metadata": {},
   "outputs": [
    {
     "data": {
      "text/html": [
       "<style scoped>\n",
       "  .ansiout {\n",
       "    display: block;\n",
       "    unicode-bidi: embed;\n",
       "    white-space: pre-wrap;\n",
       "    word-wrap: break-word;\n",
       "    word-break: break-all;\n",
       "    font-family: \"Source Code Pro\", \"Menlo\", monospace;;\n",
       "    font-size: 13px;\n",
       "    color: #555;\n",
       "    margin-left: 4px;\n",
       "    line-height: 19px;\n",
       "  }\n",
       "</style>\n",
       "<div class=\"ansiout\">Test Error = 0.124494\n",
       "accuracy = 0.875506 \n",
       "RandomForestClassificationModel (uid=RandomForestClassifier_2ba0160ed4eb) with 10 trees\n",
       "Test Area Under ROC: 0.9074894547972792\n",
       "</div>"
      ]
     },
     "metadata": {},
     "output_type": "display_data"
    }
   ],
   "source": [
    "from pyspark.ml import Pipeline\n",
    "from pyspark.ml.classification import RandomForestClassifier\n",
    "from pyspark.ml.feature import IndexToString, StringIndexer, VectorIndexer\n",
    "from pyspark.ml.evaluation import MulticlassClassificationEvaluator\n",
    "rf = RandomForestClassifier(labelCol=\"label\", featuresCol=\"features\", numTrees=10)\n",
    "model = rf.fit(trainingData)\n",
    "# Make predictions.\n",
    "predictions = model.transform(testData)\n",
    "\n",
    "evaluator = MulticlassClassificationEvaluator(labelCol=\"label\", predictionCol=\"prediction\", metricName=\"accuracy\")\n",
    "accuracy = evaluator.evaluate(predictions)\n",
    "print(\"Test Error = %g\\naccuracy = %g \" % ((1.0 - accuracy) ,accuracy))\n",
    "treeModel = model\n",
    "# summary only\n",
    "print(treeModel)\n",
    "evaluator = BinaryClassificationEvaluator()\n",
    "print(\"Test Area Under ROC: \" + str(evaluator.evaluate(predictions, {evaluator.metricName: \"areaUnderROC\"})))"
   ]
  },
  {
   "cell_type": "code",
   "execution_count": 44,
   "metadata": {
    "scrolled": true
   },
   "outputs": [
    {
     "data": {
      "text/html": [
       "<style scoped>\n",
       "  .ansiout {\n",
       "    display: block;\n",
       "    unicode-bidi: embed;\n",
       "    white-space: pre-wrap;\n",
       "    word-wrap: break-word;\n",
       "    word-break: break-all;\n",
       "    font-family: \"Source Code Pro\", \"Menlo\", monospace;;\n",
       "    font-size: 13px;\n",
       "    color: #555;\n",
       "    margin-left: 4px;\n",
       "    line-height: 19px;\n",
       "  }\n",
       "</style>\n",
       "<div class=\"ansiout\">Test Error = 0.0465587\n",
       "accuracy = 0.953441 \n",
       "GBTClassificationModel (uid=GBTClassifier_1dc6a78a94e2) with 50 trees\n",
       "Test Area Under ROC: 0.9386528897003251\n",
       "</div>"
      ]
     },
     "metadata": {},
     "output_type": "display_data"
    }
   ],
   "source": [
    "from pyspark.ml import Pipeline\n",
    "from pyspark.ml.classification import GBTClassifier\n",
    "from pyspark.ml.feature import StringIndexer, VectorIndexer\n",
    "from pyspark.ml.evaluation import MulticlassClassificationEvaluator\n",
    "gbt = GBTClassifier(labelCol=\"label\", featuresCol=\"features\", maxIter=50)\n",
    "\n",
    "# Chain indexers and GBT in a Pipeline\n",
    "#pipeline = Pipeline(stages=[labelIndexer, featureIndexer, gbt])\n",
    "\n",
    "# Train model.  This also runs the indexers.\n",
    "model = gbt.fit(trainingData)\n",
    "\n",
    "# Make predictions.\n",
    "predictions = model.transform(testData)\n",
    "evaluator = MulticlassClassificationEvaluator(labelCol=\"label\", predictionCol=\"prediction\", metricName=\"accuracy\")\n",
    "accuracy = evaluator.evaluate(predictions)\n",
    "print(\"Test Error = %g\\naccuracy = %g \" % ((1.0 - accuracy) ,accuracy))\n",
    "\n",
    "print(model)  # summary only\n",
    "\n",
    "evaluator = BinaryClassificationEvaluator()\n",
    "print(\"Test Area Under ROC: \" + str(evaluator.evaluate(predictions, {evaluator.metricName: \"areaUnderROC\"})))"
   ]
  },
  {
   "cell_type": "code",
   "execution_count": 45,
   "metadata": {},
   "outputs": [
    {
     "data": {
      "text/html": [
       "<style scoped>\n",
       "  .ansiout {\n",
       "    display: block;\n",
       "    unicode-bidi: embed;\n",
       "    white-space: pre-wrap;\n",
       "    word-wrap: break-word;\n",
       "    word-break: break-all;\n",
       "    font-family: \"Source Code Pro\", \"Menlo\", monospace;;\n",
       "    font-size: 13px;\n",
       "    color: #555;\n",
       "    margin-left: 4px;\n",
       "    line-height: 19px;\n",
       "  }\n",
       "</style>\n",
       "<div class=\"ansiout\"><span class=\"ansired\">Out[</span><span class=\"ansired\">62</span><span class=\"ansired\">]: </span>0.9325264417023421\n",
       "</div>"
      ]
     },
     "metadata": {},
     "output_type": "display_data"
    }
   ],
   "source": [
    "from pyspark.ml.tuning import ParamGridBuilder, CrossValidator\n",
    "from pyspark.ml.evaluation import BinaryClassificationEvaluator\n",
    "\n",
    "paramGrid = (ParamGridBuilder()\n",
    "             .addGrid(gbt.maxDepth, [2, 4, 6])\n",
    "             .addGrid(gbt.maxBins, [20, 60])\n",
    "             .addGrid(gbt.maxIter, [10, 20])\n",
    "             .build())\n",
    "cv = CrossValidator(estimator=gbt, estimatorParamMaps=paramGrid, evaluator=evaluator, numFolds=5)\n",
    "# Run cross validations.  This can take about 6 minutes since it is training over 20 trees!\n",
    "cvModel = cv.fit(trainingData)\n",
    "predictions = cvModel.transform(testData)\n",
    "evaluator.evaluate(predictions)"
   ]
  },
  {
   "cell_type": "code",
   "execution_count": 46,
   "metadata": {
    "scrolled": true
   },
   "outputs": [
    {
     "data": {
      "text/html": [
       "<style scoped>\n",
       "  .ansiout {\n",
       "    display: block;\n",
       "    unicode-bidi: embed;\n",
       "    white-space: pre-wrap;\n",
       "    word-wrap: break-word;\n",
       "    word-break: break-all;\n",
       "    font-family: \"Source Code Pro\", \"Menlo\", monospace;;\n",
       "    font-size: 13px;\n",
       "    color: #555;\n",
       "    margin-left: 4px;\n",
       "    line-height: 19px;\n",
       "  }\n",
       "</style>\n",
       "<div class=\"ansiout\">Test Error = 0.0475709\n",
       "accuracy = 0.952429 \n",
       "Test Area Under ROC: 0.9325264417023418\n",
       "</div>"
      ]
     },
     "metadata": {},
     "output_type": "display_data"
    }
   ],
   "source": [
    "from pyspark.ml.classification import MultilayerPerceptronClassifier\n",
    "from pyspark.ml.evaluation import MulticlassClassificationEvaluator\n",
    "#https://towardsdatascience.com/machine-learning-with-pyspark-and-mllib-solving-a-binary-classification-problem-96396065d2aa\n",
    "# Load training data\n",
    "#data = spark.read.format(\"libsvm\")\\.load(\"data/mllib/sample_multiclass_classification_data.txt\")\n",
    "\n",
    "# Split the data into train and test\n",
    "splits = df_classifier.randomSplit([0.6, 0.4], 1234)\n",
    "train = splits[0]\n",
    "test = splits[1]\n",
    "\n",
    "# specify layers for the neural network:\n",
    "# input layer of size 4 (features), two intermediate of size 5 and 4\n",
    "# and output of size 2 (classes)\n",
    "layers = [4, 5, 4, 2]\n",
    "\n",
    "# create the trainer and set its parameters\n",
    "trainer = MultilayerPerceptronClassifier(maxIter=100, layers=layers, blockSize=128, seed=1234)\n",
    "\n",
    "# train the model\n",
    "model = trainer.fit(trainingData)\n",
    "\n",
    "# compute accuracy on the test set\n",
    "result = model.transform(testData)\n",
    "predictionAndLabels = result.select(\"prediction\", \"label\")\n",
    "evaluator = MulticlassClassificationEvaluator(metricName=\"accuracy\")\n",
    "accuracy = evaluator.evaluate(predictions)\n",
    "print(\"Test Error = %g\\naccuracy = %g \" % ((1.0 - accuracy) ,accuracy))\n",
    "evaluator = BinaryClassificationEvaluator()\n",
    "print(\"Test Area Under ROC: \" + str(evaluator.evaluate(predictions, {evaluator.metricName: \"areaUnderROC\"})))"
   ]
  },
  {
   "cell_type": "code",
   "execution_count": 47,
   "metadata": {},
   "outputs": [
    {
     "data": {
      "text/html": [
       "<style scoped>\n",
       "  .ansiout {\n",
       "    display: block;\n",
       "    unicode-bidi: embed;\n",
       "    white-space: pre-wrap;\n",
       "    word-wrap: break-word;\n",
       "    word-break: break-all;\n",
       "    font-family: \"Source Code Pro\", \"Menlo\", monospace;;\n",
       "    font-size: 13px;\n",
       "    color: #555;\n",
       "    margin-left: 4px;\n",
       "    line-height: 19px;\n",
       "  }\n",
       "</style>\n",
       "<div class=\"ansiout\"><span class=\"ansired\">Out[</span><span class=\"ansired\">64</span><span class=\"ansired\">]: </span>pyspark.sql.dataframe.DataFrame\n",
       "</div>"
      ]
     },
     "metadata": {},
     "output_type": "display_data"
    }
   ],
   "source": [
    "from pyspark.ml.feature import StandardScaler\n",
    "scaler = StandardScaler(inputCol='features', outputCol='scaledFeatures')\n",
    "scaler_model = scaler.fit(df_classifier)\n",
    "scaled_data = scaler_model.transform(df_classifier)\n",
    "type(scaled_data)"
   ]
  },
  {
   "cell_type": "code",
   "execution_count": 48,
   "metadata": {
    "scrolled": true
   },
   "outputs": [
    {
     "data": {
      "text/html": [
       "<style scoped>\n",
       "  .ansiout {\n",
       "    display: block;\n",
       "    unicode-bidi: embed;\n",
       "    white-space: pre-wrap;\n",
       "    word-wrap: break-word;\n",
       "    word-break: break-all;\n",
       "    font-family: \"Source Code Pro\", \"Menlo\", monospace;;\n",
       "    font-size: 13px;\n",
       "    color: #555;\n",
       "    margin-left: 4px;\n",
       "    line-height: 19px;\n",
       "  }\n",
       "</style>\n",
       "<div class=\"ansiout\">+--------------------+-----+--------------------+\n",
       "            features|label|      scaledFeatures|\n",
       "+--------------------+-----+--------------------+\n",
       "(67,[0,1,2,3,4,5,...|  0.0|(67,[0,1,2,3,4,5,...|\n",
       "(67,[0,1,2,3,4,5,...|  0.0|(67,[0,1,2,3,4,5,...|\n",
       "(67,[0,2,3,4,5,6,...|  0.0|(67,[0,2,3,4,5,6,...|\n",
       "(67,[0,1,2,3,4,5,...|  0.0|(67,[0,1,2,3,4,5,...|\n",
       "(67,[0,1,2,3,4,5,...|  0.0|(67,[0,1,2,3,4,5,...|\n",
       "(67,[0,2,3,4,5,6,...|  0.0|(67,[0,2,3,4,5,6,...|\n",
       "(67,[0,1,2,3,4,5,...|  0.0|(67,[0,1,2,3,4,5,...|\n",
       "(67,[0,2,3,4,5,6,...|  0.0|(67,[0,2,3,4,5,6,...|\n",
       "(67,[0,1,2,3,4,5,...|  0.0|(67,[0,1,2,3,4,5,...|\n",
       "(67,[0,2,3,4,5,6,...|  0.0|(67,[0,2,3,4,5,6,...|\n",
       "(67,[0,1,2,3,4,5,...|  1.0|(67,[0,1,2,3,4,5,...|\n",
       "(67,[0,2,3,4,5,6,...|  0.0|(67,[0,2,3,4,5,6,...|\n",
       "(67,[0,1,2,3,4,5,...|  0.0|(67,[0,1,2,3,4,5,...|\n",
       "(67,[0,1,2,3,4,5,...|  0.0|(67,[0,1,2,3,4,5,...|\n",
       "(67,[0,1,2,3,4,5,...|  0.0|(67,[0,1,2,3,4,5,...|\n",
       "(67,[0,1,2,3,4,5,...|  1.0|(67,[0,1,2,3,4,5,...|\n",
       "(67,[0,1,2,3,4,5,...|  0.0|(67,[0,1,2,3,4,5,...|\n",
       "(67,[0,1,2,3,4,5,...|  0.0|(67,[0,1,2,3,4,5,...|\n",
       "(67,[0,1,2,3,4,5,...|  0.0|(67,[0,1,2,3,4,5,...|\n",
       "(67,[0,1,2,3,4,5,...|  0.0|(67,[0,1,2,3,4,5,...|\n",
       "+--------------------+-----+--------------------+\n",
       "only showing top 20 rows\n",
       "\n",
       "</div>"
      ]
     },
     "metadata": {},
     "output_type": "display_data"
    }
   ],
   "source": [
    "scaled_data.show()"
   ]
  },
  {
   "cell_type": "code",
   "execution_count": 49,
   "metadata": {},
   "outputs": [
    {
     "data": {
      "text/html": [
       "<style scoped>\n",
       "  .ansiout {\n",
       "    display: block;\n",
       "    unicode-bidi: embed;\n",
       "    white-space: pre-wrap;\n",
       "    word-wrap: break-word;\n",
       "    word-break: break-all;\n",
       "    font-family: \"Source Code Pro\", \"Menlo\", monospace;;\n",
       "    font-size: 13px;\n",
       "    color: #555;\n",
       "    margin-left: 4px;\n",
       "    line-height: 19px;\n",
       "  }\n",
       "</style>\n",
       "<div class=\"ansiout\">Test Error = 0.0890052\n",
       "accuracy = 0.910995 \n",
       "DecisionTreeClassificationModel (uid=DecisionTreeClassifier_169927612042) of depth 5 with 43 nodes\n",
       "Test Area Under ROC: 0.5741154610220578\n",
       "</div>"
      ]
     },
     "metadata": {},
     "output_type": "display_data"
    }
   ],
   "source": [
    "from pyspark.ml import Pipeline\n",
    "from pyspark.ml.classification import DecisionTreeClassifier\n",
    "from pyspark.ml.feature import StringIndexer, VectorIndexer\n",
    "from pyspark.ml.evaluation import MulticlassClassificationEvaluator\n",
    "# Split the data into training and test sets (30% held out for testing)\n",
    "(trainingData, testData) = scaled_data.randomSplit([0.7, 0.3])\n",
    "\n",
    "# Train a DecisionTree model.\n",
    "dt = DecisionTreeClassifier(labelCol=\"label\", featuresCol=\"scaledFeatures\")\n",
    "\n",
    "# Chain indexers and tree in a Pipeline\n",
    "#pipeline = Pipeline(stages=[labelIndexer, featureIndexer, dt])\n",
    "\n",
    "# Train model.  This also runs the indexers.\n",
    "model = dt.fit(trainingData)\n",
    "\n",
    "# Make predictions.\n",
    "predictions = model.transform(testData)\n",
    "\n",
    "# Select example rows to display.\n",
    "#predictions.select(\"prediction\", \"indexedLabel\", \"features\").show(5)\n",
    "\n",
    "# Select (prediction, true label) and compute test error\n",
    "evaluator = MulticlassClassificationEvaluator(labelCol=\"label\", predictionCol=\"prediction\", metricName=\"accuracy\")\n",
    "accuracy = evaluator.evaluate(predictions)\n",
    "print(\"Test Error = %g\\naccuracy = %g \" % ((1.0 - accuracy) ,accuracy))\n",
    "print(model)\n",
    "evaluator = BinaryClassificationEvaluator()\n",
    "print(\"Test Area Under ROC: \" + str(evaluator.evaluate(predictions, {evaluator.metricName: \"areaUnderROC\"})))"
   ]
  },
  {
   "cell_type": "code",
   "execution_count": 50,
   "metadata": {},
   "outputs": [
    {
     "data": {
      "text/html": [
       "<style scoped>\n",
       "  .ansiout {\n",
       "    display: block;\n",
       "    unicode-bidi: embed;\n",
       "    white-space: pre-wrap;\n",
       "    word-wrap: break-word;\n",
       "    word-break: break-all;\n",
       "    font-family: \"Source Code Pro\", \"Menlo\", monospace;;\n",
       "    font-size: 13px;\n",
       "    color: #555;\n",
       "    margin-left: 4px;\n",
       "    line-height: 19px;\n",
       "  }\n",
       "</style>\n",
       "<div class=\"ansiout\">Coefficients: [-0.000346082141572,-0.000772222264013,-0.00149428768896,-0.00126112512875,-0.000214383443892,-0.0014774461488,-0.00423236871429,-0.00035974009528,-0.00419949666902,-0.023551923649,-0.00419949666902,-0.00152290765223,-0.00855978173939,-0.000385176531981,-0.000491021682041,-0.0121771742217,-0.00581004557025,0.0,-0.0120174204146,-0.00963040089215,-0.00653225223583,-0.0126653549301,-0.00738125118276,-0.0107112429277,-0.0123718959802,-0.00132314731169,-0.00531431578665,0.0,0.0,-0.00385208067178,-0.00777028991192,-0.00156363648898,-0.000428575861841,0.00413691466717,0.0,-0.00522712669294,0.0,0.0,-0.00551509445672,-0.00481713366118,-0.0113387294978,-0.00383643745414,-0.0107648430061,-0.0108729589164,-0.00753290043159,-0.00355940870838,-0.00979416156673,-0.00675171004339,-0.0111760540625,-0.00687775084566,-0.000368892461089,-0.00129668516563,-0.00237861662209,-0.00560739653794,-0.0261643261911,-0.00614470128903,-0.00354149625569,-0.0122964271099,-0.00119574937055,-0.00617438331584,-0.00883090049598,-0.0137244572794,-0.0113330287387,-0.00416390825317,-0.00901435687179,-0.0863562072862,-0.0144219179589]\n",
       "Intercept: -0.006659965117444979\n",
       "</div>"
      ]
     },
     "metadata": {},
     "output_type": "display_data"
    }
   ],
   "source": [
    "from pyspark.ml.classification import LinearSVC\n",
    "\n",
    "# Load training data\n",
    "#training = spark.read.format(\"libsvm\").load(\"data/mllib/sample_libsvm_data.txt\")\n",
    "\n",
    "lsvc = LinearSVC(maxIter=5, regParam=0.1)\n",
    "\n",
    "# Fit the model\n",
    "lsvcModel = lsvc.fit(trainingData)\n",
    "\n",
    "# Print the coefficients and intercept for linearsSVC\n",
    "print(\"Coefficients: \" + str(lsvcModel.coefficients))\n",
    "print(\"Intercept: \" + str(lsvcModel.intercept))"
   ]
  },
  {
   "cell_type": "code",
   "execution_count": 51,
   "metadata": {
    "scrolled": true
   },
   "outputs": [
    {
     "data": {
      "text/html": [
       "<style scoped>\n",
       "  .ansiout {\n",
       "    display: block;\n",
       "    unicode-bidi: embed;\n",
       "    white-space: pre-wrap;\n",
       "    word-wrap: break-word;\n",
       "    word-break: break-all;\n",
       "    font-family: \"Source Code Pro\", \"Menlo\", monospace;;\n",
       "    font-size: 13px;\n",
       "    color: #555;\n",
       "    margin-left: 4px;\n",
       "    line-height: 19px;\n",
       "  }\n",
       "</style>\n",
       "<div class=\"ansiout\">Features scaled to range: [0.000000, 1.000000]\n",
       "+--------------------+--------------------+\n",
       "            features|     scaled_features|\n",
       "+--------------------+--------------------+\n",
       "(67,[0,1,2,3,4,5,...|[0.52479338842975...|\n",
       "(67,[0,1,2,3,4,5,...|[0.43801652892561...|\n",
       "(67,[0,2,3,4,5,6,...|[0.56198347107438...|\n",
       "(67,[0,1,2,3,4,5,...|[0.34297520661157...|\n",
       "(67,[0,1,2,3,4,5,...|[0.30578512396694...|\n",
       "(67,[0,2,3,4,5,6,...|[0.48347107438016...|\n",
       "(67,[0,1,2,3,4,5,...|[0.49586776859504...|\n",
       "(67,[0,2,3,4,5,6,...|[0.60330578512396...|\n",
       "(67,[0,1,2,3,4,5,...|[0.47933884297520...|\n",
       "(67,[0,2,3,4,5,6,...|[0.57851239669421...|\n",
       "(67,[0,1,2,3,4,5,...|[0.26446280991735...|\n",
       "(67,[0,2,3,4,5,6,...|[0.30165289256198...|\n",
       "(67,[0,1,2,3,4,5,...|[0.69008264462809...|\n",
       "(67,[0,1,2,3,4,5,...|[0.38842975206611...|\n",
       "(67,[0,1,2,3,4,5,...|[0.25206611570247...|\n",
       "(67,[0,1,2,3,4,5,...|[0.66115702479338...|\n",
       "(67,[0,1,2,3,4,5,...|[0.34710743801652...|\n",
       "(67,[0,1,2,3,4,5,...|[0.38016528925619...|\n",
       "(67,[0,1,2,3,4,5,...|[0.30991735537190...|\n",
       "(67,[0,1,2,3,4,5,...|[0.29752066115702...|\n",
       "+--------------------+--------------------+\n",
       "only showing top 20 rows\n",
       "\n",
       "</div>"
      ]
     },
     "metadata": {},
     "output_type": "display_data"
    }
   ],
   "source": [
    "from pyspark.ml.feature import MinMaxScaler\n",
    "from pyspark.ml.linalg import Vectors\n",
    "\n",
    "scaler = MinMaxScaler(inputCol=\"features\", outputCol=\"scaled_features\")\n",
    "\n",
    "# Compute summary statistics and generate MinMaxScalerModel\n",
    "scalerModel = scaler.fit(df_classifier)\n",
    "\n",
    "# rescale each feature to range [min, max].\n",
    "scaledData = scalerModel.transform(df_classifier)\n",
    "print(\"Features scaled to range: [%f, %f]\" % (scaler.getMin(), scaler.getMax()))\n",
    "scaledData.select(\"features\", \"scaled_features\").show()"
   ]
  },
  {
   "cell_type": "code",
   "execution_count": 52,
   "metadata": {
    "scrolled": true
   },
   "outputs": [
    {
     "data": {
      "text/html": [
       "<style scoped>\n",
       "  .ansiout {\n",
       "    display: block;\n",
       "    unicode-bidi: embed;\n",
       "    white-space: pre-wrap;\n",
       "    word-wrap: break-word;\n",
       "    word-break: break-all;\n",
       "    font-family: \"Source Code Pro\", \"Menlo\", monospace;;\n",
       "    font-size: 13px;\n",
       "    color: #555;\n",
       "    margin-left: 4px;\n",
       "    line-height: 19px;\n",
       "  }\n",
       "</style>\n",
       "<div class=\"ansiout\">+--------------------+-----+--------------------+\n",
       "            features|label|     scaled_features|\n",
       "+--------------------+-----+--------------------+\n",
       "(67,[0,1,2,3,4,5,...|  0.0|[0.52479338842975...|\n",
       "(67,[0,1,2,3,4,5,...|  0.0|[0.43801652892561...|\n",
       "(67,[0,2,3,4,5,6,...|  0.0|[0.56198347107438...|\n",
       "(67,[0,1,2,3,4,5,...|  0.0|[0.34297520661157...|\n",
       "(67,[0,1,2,3,4,5,...|  0.0|[0.30578512396694...|\n",
       "(67,[0,2,3,4,5,6,...|  0.0|[0.48347107438016...|\n",
       "(67,[0,1,2,3,4,5,...|  0.0|[0.49586776859504...|\n",
       "(67,[0,2,3,4,5,6,...|  0.0|[0.60330578512396...|\n",
       "(67,[0,1,2,3,4,5,...|  0.0|[0.47933884297520...|\n",
       "(67,[0,2,3,4,5,6,...|  0.0|[0.57851239669421...|\n",
       "(67,[0,1,2,3,4,5,...|  1.0|[0.26446280991735...|\n",
       "(67,[0,2,3,4,5,6,...|  0.0|[0.30165289256198...|\n",
       "(67,[0,1,2,3,4,5,...|  0.0|[0.69008264462809...|\n",
       "(67,[0,1,2,3,4,5,...|  0.0|[0.38842975206611...|\n",
       "(67,[0,1,2,3,4,5,...|  0.0|[0.25206611570247...|\n",
       "(67,[0,1,2,3,4,5,...|  1.0|[0.66115702479338...|\n",
       "(67,[0,1,2,3,4,5,...|  0.0|[0.34710743801652...|\n",
       "(67,[0,1,2,3,4,5,...|  0.0|[0.38016528925619...|\n",
       "(67,[0,1,2,3,4,5,...|  0.0|[0.30991735537190...|\n",
       "(67,[0,1,2,3,4,5,...|  0.0|[0.29752066115702...|\n",
       "+--------------------+-----+--------------------+\n",
       "only showing top 20 rows\n",
       "\n",
       "</div>"
      ]
     },
     "metadata": {},
     "output_type": "display_data"
    }
   ],
   "source": [
    "scaledData.show()"
   ]
  },
  {
   "cell_type": "code",
   "execution_count": 53,
   "metadata": {
    "scrolled": true
   },
   "outputs": [
    {
     "data": {
      "text/html": [
       "<style scoped>\n",
       "  .ansiout {\n",
       "    display: block;\n",
       "    unicode-bidi: embed;\n",
       "    white-space: pre-wrap;\n",
       "    word-wrap: break-word;\n",
       "    word-break: break-all;\n",
       "    font-family: \"Source Code Pro\", \"Menlo\", monospace;;\n",
       "    font-size: 13px;\n",
       "    color: #555;\n",
       "    margin-left: 4px;\n",
       "    line-height: 19px;\n",
       "  }\n",
       "</style>\n",
       "<div class=\"ansiout\">+--------------------+\n",
       "         pcaFeatures|\n",
       "+--------------------+\n",
       "[-284.95067408722...|\n",
       "+--------------------+\n",
       "only showing top 1 row\n",
       "\n",
       "</div>"
      ]
     },
     "metadata": {},
     "output_type": "display_data"
    }
   ],
   "source": [
    "from pyspark.ml.feature import PCA\n",
    "from pyspark.ml.linalg import Vectors\n",
    "\n",
    "#data = [(Vectors.sparse(5, [(1, 1.0), (3, 7.0)]),),(Vectors.dense([2.0, 0.0, 3.0, 4.0, 5.0]),),(Vectors.dense([4.0, 0.0, 0.0, 6.0, 7.0]),)]\n",
    "#f = spark.createDataFrame(data, [\"features\"])\n",
    "#f.show()\n",
    "pca = PCA(k=5, inputCol=\"features\", outputCol=\"pcaFeatures\")\n",
    "model = pca.fit(scaledData)\n",
    "#print(model.pc)\n",
    "pcaData = model.transform(scaledData).select(\"pcaFeatures\")\n",
    "pcaData.show(1)"
   ]
  },
  {
   "cell_type": "code",
   "execution_count": 54,
   "metadata": {
    "scrolled": false
   },
   "outputs": [
    {
     "data": {
      "text/html": [
       "<style scoped>\n",
       "  .ansiout {\n",
       "    display: block;\n",
       "    unicode-bidi: embed;\n",
       "    white-space: pre-wrap;\n",
       "    word-wrap: break-word;\n",
       "    word-break: break-all;\n",
       "    font-family: \"Source Code Pro\", \"Menlo\", monospace;;\n",
       "    font-size: 13px;\n",
       "    color: #555;\n",
       "    margin-left: 4px;\n",
       "    line-height: 19px;\n",
       "  }\n",
       "</style>\n",
       "<div class=\"ansiout\">Test Error = 0.0552147\n",
       "accuracy = 0.944785 \n",
       "DecisionTreeClassificationModel (uid=DecisionTreeClassifier_e6cbea10e49a) of depth 5 with 51 nodes\n",
       "</div>"
      ]
     },
     "metadata": {},
     "output_type": "display_data"
    }
   ],
   "source": [
    "from pyspark.ml import Pipeline\n",
    "from pyspark.ml.classification import DecisionTreeClassifier\n",
    "from pyspark.ml.feature import StringIndexer, VectorIndexer\n",
    "from pyspark.ml.evaluation import MulticlassClassificationEvaluator\n",
    "# Split the data into training and test sets (30% held out for testing)\n",
    "(trainingData, testData) = scaledData.randomSplit([0.7, 0.3])\n",
    "\n",
    "# Train a DecisionTree model.\n",
    "dt = DecisionTreeClassifier(labelCol=\"label\", featuresCol=\"scaled_features\")\n",
    "\n",
    "# Chain indexers and tree in a Pipeline\n",
    "#pipeline = Pipeline(stages=[labelIndexer, featureIndexer, dt])\n",
    "\n",
    "# Train model.  This also runs the indexers.\n",
    "model = dt.fit(trainingData)\n",
    "\n",
    "# Make predictions.\n",
    "predictions = model.transform(testData)\n",
    "\n",
    "# Select example rows to display.\n",
    "#predictions.select(\"prediction\", \"indexedLabel\", \"features\").show(5)\n",
    "\n",
    "# Select (prediction, true label) and compute test error\n",
    "evaluator = MulticlassClassificationEvaluator(labelCol=\"label\", predictionCol=\"prediction\", metricName=\"accuracy\")\n",
    "accuracy = evaluator.evaluate(predictions)\n",
    "print(\"Test Error = %g\\naccuracy = %g \" % ((1.0 - accuracy) ,accuracy))\n",
    "print(model)"
   ]
  },
  {
   "cell_type": "code",
   "execution_count": 55,
   "metadata": {},
   "outputs": [
    {
     "data": {
      "text/html": [
       "<style scoped>\n",
       "  .ansiout {\n",
       "    display: block;\n",
       "    unicode-bidi: embed;\n",
       "    white-space: pre-wrap;\n",
       "    word-wrap: break-word;\n",
       "    word-break: break-all;\n",
       "    font-family: \"Source Code Pro\", \"Menlo\", monospace;;\n",
       "    font-size: 13px;\n",
       "    color: #555;\n",
       "    margin-left: 4px;\n",
       "    line-height: 19px;\n",
       "  }\n",
       "</style>\n",
       "<div class=\"ansiout\">Within Set Sum of Squared Errors = 30740960.903948314\n",
       "Cluster Centers: \n",
       "[  1.01372514e+02   1.54611212e+00   1.00353828e+02   3.79907234e+01\n",
       "   2.23472091e+02   1.00294153e+02   1.70169801e+01   2.00197709e+02\n",
       "   4.48884870e+00   2.76531646e+00   4.48884870e+00   1.00724533e+02\n",
       "   8.96754068e+00   1.99277878e+02   8.26943942e+00   3.07414105e-02\n",
       "   2.47136829e-02   1.86859554e-02   2.65220012e-02   2.47136829e-02\n",
       "   2.59192285e-02   2.35081374e-02   2.23025919e-02   2.16998192e-02\n",
       "   2.10970464e-02   2.23025919e-02   2.29053647e-02   2.23025919e-02\n",
       "   2.29053647e-02   2.35081374e-02   2.95358650e-02   2.53164557e-02\n",
       "   2.59192285e-02   2.59192285e-02   1.62748644e-02   2.59192285e-02\n",
       "   1.86859554e-02   1.62748644e-02   1.98915009e-02   1.92887281e-02\n",
       "   1.62748644e-02   1.56720916e-02   1.62748644e-02   1.62748644e-02\n",
       "   1.98915009e-02   1.44665461e-02   2.16998192e-02   2.04942737e-02\n",
       "   1.80831826e-02   1.80831826e-02   1.80831826e-02   2.04942737e-02\n",
       "   1.32610006e-02   1.38637734e-02   1.74804099e-02   1.86859554e-02\n",
       "   1.44665461e-02   1.38637734e-02   1.86859554e-02   1.26582278e-02\n",
       "   1.62748644e-02   1.50693189e-02   1.50693189e-02   1.44665461e-02\n",
       "   1.20554551e-02   8.95117541e-01   7.18505124e-01]\n",
       "[  1.00759857e+02   1.57945042e+00   1.00516726e+02   2.32004540e+01\n",
       "   1.36469654e+02   9.99360812e+01   1.71495042e+01   2.01755974e+02\n",
       "   4.47013142e+00   2.76385305e+00   4.47013142e+00   9.94964158e+01\n",
       "   9.11046595e+00   2.02451911e+02   7.93010753e+00   3.28554361e-02\n",
       "   2.56869773e-02   3.10633214e-02   2.15053763e-02   2.21027479e-02\n",
       "   2.09080048e-02   2.32974910e-02   2.38948626e-02   2.44922342e-02\n",
       "   2.32974910e-02   2.15053763e-02   2.09080048e-02   2.15053763e-02\n",
       "   2.03106332e-02   1.97132616e-02   1.31421744e-02   1.67264038e-02\n",
       "   1.61290323e-02   1.49342891e-02   2.44922342e-02   1.49342891e-02\n",
       "   2.09080048e-02   2.32974910e-02   1.97132616e-02   1.97132616e-02\n",
       "   2.27001195e-02   2.32974910e-02   2.21027479e-02   2.15053763e-02\n",
       "   1.79211470e-02   2.27001195e-02   1.55316607e-02   1.67264038e-02\n",
       "   1.85185185e-02   1.85185185e-02   1.85185185e-02   1.55316607e-02\n",
       "   2.27001195e-02   2.15053763e-02   1.73237754e-02   1.49342891e-02\n",
       "   1.85185185e-02   1.85185185e-02   1.37395460e-02   1.91158901e-02\n",
       "   1.55316607e-02   1.61290323e-02   1.55316607e-02   1.25448029e-02\n",
       "   1.43369176e-02   9.10991637e-01   7.28195938e-01]\n",
       "</div>"
      ]
     },
     "metadata": {},
     "output_type": "display_data"
    }
   ],
   "source": [
    "from pyspark.ml.clustering import KMeans\n",
    "\n",
    "# Loads data.\n",
    "#dataset = spark.read.format(\"libsvm\").load(\"data/mllib/sample_kmeans_data.txt\")\n",
    "\n",
    "# Trains a k-means model.\n",
    "kmeans = KMeans().setK(2).setSeed(1)\n",
    "model = kmeans.fit(df_classifier)\n",
    "\n",
    "# Evaluate clustering by computing Within Set Sum of Squared Errors.\n",
    "wssse = model.computeCost(df_classifier)\n",
    "print(\"Within Set Sum of Squared Errors = \" + str(wssse))\n",
    "\n",
    "# Shows the result.\n",
    "centers = model.clusterCenters()\n",
    "print(\"Cluster Centers: \")\n",
    "for center in centers:\n",
    "    print(center)"
   ]
  },
  {
   "cell_type": "markdown",
   "metadata": {},
   "source": [
    "## Results:\n",
    "### Below are the results according to the accuracy and ROC learning rates of different models, \n",
    "\n",
    "####                            Accuracy\tROC\n",
    "#### LogisticRegression\t        0.85\t    --\n",
    "#### Decion tree\t            0.92\t    0.37\n",
    "#### Random Forest\t            0.85        0.89\n",
    "#### Gradient boosted                   \n",
    "#### tree                       0.94\t    0.95\n",
    "#### Multilayer                         \n",
    "#### Perceptron      \t        0.94\t    0.946\n",
    "\n",
    "#### As per the above results we could see that all models perform better. With multilayer perceptron neural network and gradient boosted tree working better with accuracy of 94% and ROC  score of 0.95. As these are test accuracies obtained, which are calculated with the test split of 30%. Almost all the models have test accuracies of more than 85%. ROC scores with highest of 0.95 and lowest of 0.37, inferes that the model's of more ROC score learn the data faster than the models like decision trees and logistical regression with lesser ROC rates compared to other models. \n",
    "\n",
    "#### Also we can see that K-means algorithm under performs and couldnot learn any specific patterns in the dataset. \n",
    "\n",
    "#### Multilayer perceptron is a neural network that predicts well. \n",
    "\n",
    "#### After experimenting on different models and considering our problem statement we can infere that Tree based models works better for this situation. Tree based models show better predictability(Though the ROC score is less for decision tree) we can say that gradient boosted trees with highest accuracies and explainabilities perform better. These tree based models can be interpreted and Explained better way compared to the Multilayer perceptron and neural networks."
   ]
  },
  {
   "cell_type": "markdown",
   "metadata": {},
   "source": [
    "## Companies can make use of these models and predict whether the customer will churn or not. By leveraging the data customer can make new offers for these clients and on a whole improve the service to retain the customers."
   ]
  },
  {
   "cell_type": "markdown",
   "metadata": {},
   "source": [
    "#### References:\n",
    "#### 1) https://spark.apache.org/docs/1.5.2/api/python/pyspark.ml.html\n",
    "#### 2) https://towardsdatascience.com/predict-customer-churn-with-r-9e62357d47b4\n",
    "#### 3) https://towardsdatascience.com/cutting-the-cord-predicting-customer-churn-for-a-telecom-company-268e65f177a5\n",
    "#### 4) https://stackoverflow.com/\n",
    "#### 5) Frank-Kanes-Taming-Big-Data-with-Apache-Spark-and-Python"
   ]
  },
  {
   "cell_type": "markdown",
   "metadata": {
    "collapsed": true
   },
   "source": [
    "### Challenges faced :\n",
    "### We faced some challenges while implementing the models in mulltilayer perceptron and PCA analysis as the data frame transformation had to be done and also we weren't able to get the evaluation metrices for different  models. Later we had to explore various sources and finally have implemented those metrics using BinaryEvaluator\n"
   ]
  }
 ],
 "metadata": {
  "kernelspec": {
   "display_name": "Python 3",
   "language": "python",
   "name": "python3"
  },
  "language_info": {
   "codemirror_mode": {
    "name": "ipython",
    "version": 3
   },
   "file_extension": ".py",
   "mimetype": "text/x-python",
   "name": "python",
   "nbconvert_exporter": "python",
   "pygments_lexer": "ipython3",
   "version": "3.7.1"
  },
  "name": "projecttm",
  "notebookId": 3810089180485133
 },
 "nbformat": 4,
 "nbformat_minor": 1
}
